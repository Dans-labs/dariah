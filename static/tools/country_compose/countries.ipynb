{
 "cells": [
  {
   "cell_type": "markdown",
   "metadata": {},
   "source": [
    "# Building the country information files\n",
    "\n",
    "The DARIAH app contains a visualization of the number of member country contribution on a map.\n",
    "\n",
    "We show the map using Leaflet, which loads files containing the boundaries. These files are in geojson format.\n",
    "\n",
    "Here we bundle all the necessary information of all European countries in one file.\n",
    "\n",
    "Per country that is:\n",
    "\n",
    "* country code (ISO 2 letter)\n",
    "* latitude and longitude (the place where to put markers or other features)\n",
    "* geojson polygons, representing the boundaries\n",
    "\n",
    "We have obtained data from the github repo\n",
    "[mledoze/countries](https://github.com/mledoze/countries). \n",
    "We use these files:\n",
    "\n",
    "* dist/countries_unescaped.json\n",
    "* data/ccc.geo.json (where ccc is the three letter code of a country)\n",
    "\n",
    "We have compiled manually a selection of European countries from\n",
    "\n",
    "* dist/countries.csv\n",
    "\n",
    "and transformed it to the file\n",
    "\n",
    "* europe_countries.csv (with only the name, the 2 letter and 3 letter codes of the country)\n",
    "\n",
    "The bundle we are producing will be a geojson file with as little information as needed.\n",
    "We also will round the coordinates and weed out duplicate points, in order to reduce the file size.\n",
    "\n",
    "## NB:\n",
    "\n",
    "For Kosovo we have made manual adjustments:\n",
    "\n",
    "* We downloaded a geojson file from elsewhere\n",
    "* used KOS as a temporary three letter code\n"
   ]
  },
  {
   "cell_type": "code",
   "execution_count": 1,
   "metadata": {
    "collapsed": true
   },
   "outputs": [],
   "source": [
    "EU_FILE = 'europe_countries.csv'\n",
    "GEO_DIR = 'geojson'\n",
    "COUNTRIES = 'all_countries.json'\n",
    "OUTFILE = '../../jsrc/europe.geo.js'\n",
    "CENTER_PRECISION = 1"
   ]
  },
  {
   "cell_type": "code",
   "execution_count": 2,
   "metadata": {
    "collapsed": true
   },
   "outputs": [],
   "source": [
    "import sys, collections, json"
   ]
  },
  {
   "cell_type": "markdown",
   "metadata": {},
   "source": [
    "## Read the list of European countries"
   ]
  },
  {
   "cell_type": "code",
   "execution_count": 3,
   "metadata": {
    "collapsed": false
   },
   "outputs": [
    {
     "name": "stdout",
     "output_type": "stream",
     "text": [
      " 1 AD AND Andorra\n",
      " 2 AL ALB Albania\n",
      " 3 AM ARM Armenia\n",
      " 4 AT AUT Austria\n",
      " 5 AZ AZE Azerbaijan\n",
      " 6 BA BIH Bosnia and Herzegovina\n",
      " 7 BE BEL Belgium\n",
      " 8 BG BGR Bulgaria\n",
      " 9 BY BLR Belarus\n",
      "10 CH CHE Switzerland\n",
      "11 CY CYP Cyprus\n",
      "12 CZ CZE Czech Republic\n",
      "13 DE DEU Germany\n",
      "14 DK DNK Denmark\n",
      "15 EE EST Estonia\n",
      "16 ES ESP Spain\n",
      "17 FI FIN Finland\n",
      "18 FR FRA France\n",
      "19 GB GBR United Kingdom\n",
      "20 GE GEO Georgia\n",
      "21 GR GRC Greece\n",
      "22 HR HRV Croatia\n",
      "23 HU HUN Hungary\n",
      "24 IE IRL Ireland\n",
      "25 IS ISL Iceland\n",
      "26 IT ITA Italy\n",
      "27 LI LIE Liechtenstein\n",
      "28 LT LTU Lithuania\n",
      "29 LU LUX Luxembourg\n",
      "30 LV LVA Latvia\n",
      "31 MC MCO Monaco\n",
      "32 MD MDA Moldova\n",
      "33 ME MNE Montenegro\n",
      "34 MK MKD Macedonia\n",
      "35 MT MLT Malta\n",
      "36 NL NLD Netherlands\n",
      "37 NO NOR Norway\n",
      "38 PL POL Poland\n",
      "39 PT PRT Portugal\n",
      "40 RO ROU Romania\n",
      "41 RS SRB Serbia\n",
      "42 RU RUS Russia\n",
      "43 SE SWE Sweden\n",
      "44 SI SVN Slovenia\n",
      "45 SK SVK Slovakia\n",
      "46 SM SMR San Marino\n",
      "47 TR TUR Turkey\n",
      "48 UA UKR Ukraine\n",
      "49 UZ UZB Uzbekistan\n",
      "50 VA VAT Vatican City\n",
      "51 XK KOS Kosovo\n"
     ]
    }
   ],
   "source": [
    "eu_countries = {}\n",
    "with open(EU_FILE) as f:\n",
    "    for line in f:\n",
    "        if line[0] == '#': continue\n",
    "        fields = line.strip().split(';')\n",
    "        if len(fields) == 3:\n",
    "            (name, iso2, iso3) = fields\n",
    "            eu_countries[iso2] = dict(iso3=iso3, name=name)\n",
    "for (i, (iso2, info)) in enumerate(sorted(eu_countries.items())):\n",
    "    print('{:>2} {} {} {}'.format(i+1, iso2, info['iso3'], info['name']))"
   ]
  },
  {
   "cell_type": "markdown",
   "metadata": {},
   "source": [
    "## Read and filter the country file"
   ]
  },
  {
   "cell_type": "code",
   "execution_count": 4,
   "metadata": {
    "collapsed": false
   },
   "outputs": [
    {
     "name": "stdout",
     "output_type": "stream",
     "text": [
      "Total number of countries: 248\n",
      "Found info for 51 European countries\n",
      " 1 AD ( 42.5,   1.5) Andorra\n",
      " 2 AL ( 41.0,  20.0) Albania\n",
      " 3 AM ( 40.0,  45.0) Armenia\n",
      " 4 AT ( 47.3,  13.3) Austria\n",
      " 5 AZ ( 40.5,  47.5) Azerbaijan\n",
      " 6 BA ( 44.0,  18.0) Bosnia and Herzegovina\n",
      " 7 BE ( 50.8,   4.0) Belgium\n",
      " 8 BG ( 43.0,  25.0) Bulgaria\n",
      " 9 BY ( 53.0,  28.0) Belarus\n",
      "10 CH ( 47.0,   8.0) Switzerland\n",
      "11 CY ( 35.0,  33.0) Cyprus\n",
      "12 CZ ( 49.8,  15.5) Czech Republic\n",
      "13 DE ( 51.0,   9.0) Germany\n",
      "14 DK ( 56.0,  10.0) Denmark\n",
      "15 EE ( 59.0,  26.0) Estonia\n",
      "16 ES ( 40.0,  -4.0) Spain\n",
      "17 FI ( 64.0,  26.0) Finland\n",
      "18 FR ( 46.0,   2.0) France\n",
      "19 GB ( 54.0,  -2.0) United Kingdom\n",
      "20 GE ( 42.0,  43.5) Georgia\n",
      "21 GR ( 39.0,  22.0) Greece\n",
      "22 HR ( 45.2,  15.5) Croatia\n",
      "23 HU ( 47.0,  20.0) Hungary\n",
      "24 IE ( 53.0,  -8.0) Ireland\n",
      "25 IS ( 65.0, -18.0) Iceland\n",
      "26 IT ( 42.8,  12.8) Italy\n",
      "27 LI ( 47.3,   9.5) Liechtenstein\n",
      "28 LT ( 56.0,  24.0) Lithuania\n",
      "29 LU ( 49.8,   6.2) Luxembourg\n",
      "30 LV ( 57.0,  25.0) Latvia\n",
      "31 MC ( 43.7,   7.4) Monaco\n",
      "32 MD ( 47.0,  29.0) Moldova\n",
      "33 ME ( 42.5,  19.3) Montenegro\n",
      "34 MK ( 41.8,  22.0) Macedonia\n",
      "35 MT ( 35.8,  14.6) Malta\n",
      "36 NL ( 52.5,   5.8) Netherlands\n",
      "37 NO ( 62.0,  10.0) Norway\n",
      "38 PL ( 52.0,  20.0) Poland\n",
      "39 PT ( 39.5,  -8.0) Portugal\n",
      "40 RO ( 46.0,  25.0) Romania\n",
      "41 RS ( 44.0,  21.0) Serbia\n",
      "42 RU ( 60.0, 100.0) Russia\n",
      "43 SE ( 62.0,  15.0) Sweden\n",
      "44 SI ( 46.1,  14.8) Slovenia\n",
      "45 SK ( 48.7,  19.5) Slovakia\n",
      "46 SM ( 43.8,  12.4) San Marino\n",
      "47 TR ( 39.0,  35.0) Turkey\n",
      "48 UA ( 49.0,  32.0) Ukraine\n",
      "49 UZ ( 41.0,  64.0) Uzbekistan\n",
      "50 VA ( 41.9,  12.4) Vatican City\n",
      "51 XK ( 42.7,  21.2) Kosovo\n"
     ]
    }
   ],
   "source": [
    "with open(COUNTRIES) as f:\n",
    "    countries = json.load(f)\n",
    "print('Total number of countries: {}'.format(len(countries)))\n",
    "i = 0\n",
    "coord_fmt = '{{:>{}.{}f}}'.format(4+CENTER_PRECISION, CENTER_PRECISION)\n",
    "pair_fmt = '({}, {})'.format(coord_fmt, coord_fmt)\n",
    "line_fmt = '{{:>2}} {{}} {} {{}}'.format(pair_fmt)\n",
    "\n",
    "for country in countries:\n",
    "    iso2 = country['cca2']\n",
    "    if iso2 in eu_countries:\n",
    "        i += 1\n",
    "        (lat, lng) = country['latlng']\n",
    "        info = eu_countries[iso2]\n",
    "        info['lat'] = round(lat, CENTER_PRECISION)\n",
    "        info['lng'] = round(lng, CENTER_PRECISION)\n",
    "print('Found info for {} European countries'.format(i))\n",
    "for (i, (iso2, info)) in enumerate(sorted(eu_countries.items())):\n",
    "    print(line_fmt.format(\n",
    "        i+1, iso2,\n",
    "        info['lat'], info['lng'],\n",
    "        info['name'],\n",
    "    ))            "
   ]
  },
  {
   "cell_type": "markdown",
   "metadata": {},
   "source": [
    "## Gather the boundary information"
   ]
  },
  {
   "cell_type": "code",
   "execution_count": 5,
   "metadata": {
    "collapsed": true
   },
   "outputs": [],
   "source": [
    "def n_points(tp, data):\n",
    "    if tp == 'll': return len(data)\n",
    "    if tp == 'Polygon': return sum(len(ll) for ll in data)\n",
    "    if tp == 'MultiPolygon': return sum(sum(len(ll) for ll in poly) for poly in data)\n",
    "    return -1\n",
    "\n",
    "def n_ll(tp, data):\n",
    "    if tp == 'Polygon': return len(data)\n",
    "    if tp == 'MultiPolygon': return sum(len(poly) for poly in data)\n",
    "    return -1"
   ]
  },
  {
   "cell_type": "code",
   "execution_count": 6,
   "metadata": {
    "collapsed": false
   },
   "outputs": [
    {
     "name": "stdout",
     "output_type": "stream",
     "text": [
      " 1 AD Andorra                   Polygon          1 poly,   1 linear ring,    29 point\n",
      " 2 AL Albania                   Polygon          1 poly,   1 linear ring,   337 point\n",
      " 3 AM Armenia                   MultiPolygon     2 poly,   4 linear ring,   418 point\n",
      " 4 AT Austria                   Polygon          1 poly,   1 linear ring,   596 point\n",
      " 5 AZ Azerbaijan                MultiPolygon     4 poly,   5 linear ring,   871 point\n",
      " 6 BA Bosnia and Herzegovina    Polygon          1 poly,   1 linear ring,   399 point\n",
      " 7 BE Belgium                   Polygon          1 poly,   1 linear ring,   381 point\n",
      " 8 BG Bulgaria                  Polygon          1 poly,   1 linear ring,   564 point\n",
      " 9 BY Belarus                   Polygon          1 poly,   1 linear ring,   996 point\n",
      "10 CH Switzerland               Polygon          1 poly,   2 linear ring,   545 point\n",
      "11 CY Cyprus                    Polygon          1 poly,   1 linear ring,   187 point\n",
      "12 CZ Czech Republic            Polygon          1 poly,   1 linear ring,   520 point\n",
      "13 DE Germany                   MultiPolygon    23 poly,  23 linear ring,  2157 point\n",
      "14 DK Denmark                   MultiPolygon    18 poly,  18 linear ring,  1608 point\n",
      "15 EE Estonia                   MultiPolygon     6 poly,   6 linear ring,   735 point\n",
      "16 ES Spain                     MultiPolygon    16 poly,  16 linear ring,  1655 point\n",
      "17 FI Finland                   MultiPolygon    26 poly,  26 linear ring,  1968 point\n",
      "18 FR France                    MultiPolygon    10 poly,  10 linear ring,  2007 point\n",
      "19 GB United Kingdom            MultiPolygon    48 poly,  48 linear ring,  3898 point\n",
      "20 GE Georgia                   Polygon          1 poly,   1 linear ring,   505 point\n",
      "21 GR Greece                    MultiPolygon    68 poly,  68 linear ring,  3204 point\n",
      "22 HR Croatia                   MultiPolygon    19 poly,  19 linear ring,  1365 point\n",
      "23 HU Hungary                   Polygon          1 poly,   1 linear ring,   616 point\n",
      "24 IE Ireland                   MultiPolygon     5 poly,   5 linear ring,  1028 point\n",
      "25 IS Iceland                   Polygon          1 poly,   1 linear ring,  1466 point\n",
      "26 IT Italy                     MultiPolygon    22 poly,  24 linear ring,  2317 point\n",
      "27 LI Liechtenstein             Polygon          1 poly,   1 linear ring,    28 point\n",
      "28 LT Lithuania                 MultiPolygon     2 poly,   2 linear ring,   565 point\n",
      "29 LU Luxembourg                Polygon          1 poly,   1 linear ring,    84 point\n",
      "30 LV Latvia                    Polygon          1 poly,   1 linear ring,   535 point\n",
      "31 MC Monaco                    Polygon          1 poly,   1 linear ring,    15 point\n",
      "32 MD Moldova                   Polygon          1 poly,   1 linear ring,   425 point\n",
      "33 ME Montenegro                Polygon          1 poly,   1 linear ring,   268 point\n",
      "34 MK Macedonia                 Polygon          1 poly,   1 linear ring,   219 point\n",
      "35 MT Malta                     MultiPolygon     2 poly,   2 linear ring,    44 point\n",
      "36 NL Netherlands               MultiPolygon     9 poly,   9 linear ring,  1054 point\n",
      "37 NO Norway                    MultiPolygon    94 poly,  94 linear ring,  8396 point\n",
      "38 PL Poland                    Polygon          1 poly,   1 linear ring,   924 point\n",
      "39 PT Portugal                  MultiPolygon     8 poly,   8 linear ring,   768 point\n",
      "40 RO Romania                   Polygon          1 poly,   1 linear ring,   975 point\n",
      "41 RS Serbia                    Polygon          1 poly,   1 linear ring,   652 point\n",
      "42 RU Russia                    MultiPolygon    228 poly, 228 linear ring, 35822 point\n",
      "43 SE Sweden                    MultiPolygon    19 poly,  19 linear ring,  2638 point\n",
      "44 SI Slovenia                  Polygon          1 poly,   1 linear ring,   301 point\n",
      "45 SK Slovakia                  Polygon          1 poly,   1 linear ring,   403 point\n",
      "46 SM San Marino                Polygon          1 poly,   1 linear ring,    24 point\n",
      "47 TR Turkey                    MultiPolygon     5 poly,   5 linear ring,  2186 point\n",
      "48 UA Ukraine                   MultiPolygon     4 poly,   4 linear ring,  2782 point\n",
      "49 UZ Uzbekistan                Polygon          1 poly,   1 linear ring,  1428 point\n",
      "50 VA Vatican City              Polygon          1 poly,   1 linear ring,     4 point\n",
      "51 XK Kosovo                    Polygon          1 poly,   1 linear ring,    21 point\n",
      "TOTAL                                          667 poly, 673 linear ring, 90933 point\n"
     ]
    }
   ],
   "source": [
    "for iso2 in eu_countries:\n",
    "    info = eu_countries[iso2]\n",
    "    with open('{}/{}.geo.json'.format(GEO_DIR, info['iso3'])) as f:\n",
    "        geoinfo = json.load(f)\n",
    "        geometry = geoinfo['features'][0]['geometry']\n",
    "        info['geometry'] = geometry\n",
    "\n",
    "total_ng = 0\n",
    "total_nl = 0\n",
    "total_np = 0\n",
    "\n",
    "for (i, (iso2, info)) in enumerate(sorted(eu_countries.items())):\n",
    "    geo = info['geometry']\n",
    "    shape = geo['type']\n",
    "    data = geo['coordinates']\n",
    "    ng = 1 if shape == 'Polygon' else len(data)\n",
    "    np = n_points(shape, data)\n",
    "    nl = n_ll(shape, data)\n",
    "    total_ng += ng\n",
    "    total_nl += nl\n",
    "    total_np += np\n",
    "\n",
    "    print('{:>2} {} {:<25} {:<15} {:>2} poly, {:>3} linear ring, {:>5} point'.format(\n",
    "        i+1, iso2,\n",
    "        info['name'],\n",
    "        shape,\n",
    "        ng, nl, np,\n",
    "    ))  \n",
    "print('{:<47}{:>2} poly, {:>3} linear ring, {:>5} point'.format(\n",
    "    'TOTAL', total_ng, total_nl, total_np,\n",
    "))"
   ]
  },
  {
   "cell_type": "markdown",
   "metadata": {},
   "source": [
    "## Condense coordinates\n",
    "\n",
    "We are going to reduce the information in the boundaries in a number of ways.\n",
    "A shape is organized as follows:\n",
    "\n",
    "Multipolygon: a set of Polygons\n",
    "Polygon: a set of linear rings\n",
    "Linear rings: a list of coordinates, of which the last is equal to the first\n",
    "Coordinate: a longitude and a latitude\n",
    "\n",
    "### GEO_PRECISION\n",
    "For coordinates we use a resolution of GEO_PRECISION digits behind the decimal point.\n",
    "We round the coordinates. This may cause repetition of identical points in a shape.\n",
    "We weed those out. We must take care that we do not weed out the first and last points.\n",
    "\n",
    "### MIN_POINTS\n",
    "If a linear ring has too few points, we just ignore it.\n",
    "That is, a linear ring must have at least MIN_POINTS in order to pass.\n",
    "\n",
    "### MAX_POINTS\n",
    "If a linear ring has too many points, we weed them out, until there are MAX_POINTS left.\n",
    "\n",
    "### MAX_MULTI\n",
    "If a multipolygon has too many polygons, we retain only MAX_MULTI of them. We order the polygons by the number of points they contain, and we retain the richest ones."
   ]
  },
  {
   "cell_type": "code",
   "execution_count": 7,
   "metadata": {
    "collapsed": true
   },
   "outputs": [],
   "source": [
    "GEO_PRECISION =  1 # number of digits in coordinates of shapes\n",
    "MIN_POINTS    = 10 # minimum number of points in a linear ring\n",
    "MAX_POINTS    = 50 # maximum number of points in a linear ring\n",
    "MAX_POLY      = 5 # maximum number of polygons in a multipolygon"
   ]
  },
  {
   "cell_type": "code",
   "execution_count": 8,
   "metadata": {
    "collapsed": true
   },
   "outputs": [],
   "source": [
    "def weed_ll(ll):\n",
    "    new_ll = tuple(collections.OrderedDict(\n",
    "        ((round(lng, GEO_PRECISION), round(lat, GEO_PRECISION)), None) for (lng, lat) in ll\n",
    "    ).keys())\n",
    "    if len(new_ll) > MAX_POINTS:\n",
    "        new_ll = new_ll[::(int(len(new_ll) / MAX_POINTS) + 1)]        \n",
    "    return new_ll + (new_ll[0],)\n",
    "\n",
    "def weed_poly(poly):\n",
    "    new_poly = tuple(weed_ll(ll) for ll in poly)\n",
    "    return tuple(ll for ll in new_poly if len(ll) >= MIN_POINTS)\n",
    "\n",
    "def weed_multi(multi):\n",
    "    new_multi = tuple(weed_poly(poly) for poly in multi)\n",
    "    return tuple(sorted(new_multi, key=lambda poly: -n_points('Polygon', poly))[0:MAX_POLY])\n",
    "\n",
    "def weed(tp, data):\n",
    "    if tp == 'll': return weed_ll(data)\n",
    "    if tp == 'Polygon': return weed_poly(data)\n",
    "    if tp == 'MultiPolygon': return weed_multi(data)"
   ]
  },
  {
   "cell_type": "code",
   "execution_count": 9,
   "metadata": {
    "collapsed": true
   },
   "outputs": [],
   "source": [
    "ll = [\n",
    "    [8.710255,47.696808],\n",
    "    [8.709721,47.70694],\n",
    "    [8.708332,47.710548],\n",
    "    [8.705,47.713051],\n",
    "    [8.698889,47.713608],\n",
    "    [8.675278,47.712494],\n",
    "    [8.670555,47.711105],\n",
    "    [8.670277,47.707497],\n",
    "    [8.673298,47.701771],\n",
    "    [8.675554,47.697495],\n",
    "    [8.678595,47.693344],\n",
    "    [8.710255,47.696808],\n",
    "]\n",
    "ll2 = [\n",
    "    [8.710255,47.696808],\n",
    "    [9.709721,47.70694],\n",
    "    [10.708332,47.710548],\n",
    "    [11.705,47.713051],\n",
    "    [12.698889,47.713608],\n",
    "    [13.675278,47.712494],\n",
    "    [14.670555,47.711105],\n",
    "    [15.670277,47.707497],\n",
    "    [16.673298,47.701771],\n",
    "    [17.675554,47.697495],\n",
    "    [18.678595,47.693344],\n",
    "    [19.710255,47.696808],\n",
    "    [20.710255,47.696808],\n",
    "    [8.710255,47.696808],\n",
    "]\n",
    "\n",
    "poly = [ll, ll2]"
   ]
  },
  {
   "cell_type": "code",
   "execution_count": 10,
   "metadata": {
    "collapsed": false
   },
   "outputs": [
    {
     "name": "stdout",
     "output_type": "stream",
     "text": [
      "((8.7, 47.7), (8.7, 47.7))\n",
      "=====\n",
      "((8.7, 47.7), (9.7, 47.7), (10.7, 47.7), (11.7, 47.7), (12.7, 47.7), (13.7, 47.7), (14.7, 47.7), (15.7, 47.7), (16.7, 47.7), (17.7, 47.7), (18.7, 47.7), (19.7, 47.7), (20.7, 47.7), (8.7, 47.7))\n",
      "=====\n",
      "(((8.7, 47.7), (9.7, 47.7), (10.7, 47.7), (11.7, 47.7), (12.7, 47.7), (13.7, 47.7), (14.7, 47.7), (15.7, 47.7), (16.7, 47.7), (17.7, 47.7), (18.7, 47.7), (19.7, 47.7), (20.7, 47.7), (8.7, 47.7)),)\n"
     ]
    }
   ],
   "source": [
    "print(weed_ll(ll))\n",
    "print('=====')\n",
    "print(weed_ll(ll2))\n",
    "print('=====')\n",
    "print(weed_poly(poly))"
   ]
  },
  {
   "cell_type": "code",
   "execution_count": 11,
   "metadata": {
    "collapsed": false
   },
   "outputs": [
    {
     "name": "stdout",
     "output_type": "stream",
     "text": [
      " 1 AD Andorra                   Polygon          1 poly,   1 linear ring,    10 point\n",
      " 2 AL Albania                   Polygon          1 poly,   1 linear ring,    35 point\n",
      " 3 AM Armenia                   MultiPolygon     2 poly,   1 linear ring,    37 point\n",
      " 4 AT Austria                   Polygon          1 poly,   1 linear ring,    49 point\n",
      " 5 AZ Azerbaijan                MultiPolygon     4 poly,   2 linear ring,    86 point\n",
      " 6 BA Bosnia and Herzegovina    Polygon          1 poly,   1 linear ring,    42 point\n",
      " 7 BE Belgium                   Polygon          1 poly,   1 linear ring,    41 point\n",
      " 8 BG Bulgaria                  Polygon          1 poly,   1 linear ring,    50 point\n",
      " 9 BY Belarus                   Polygon          1 poly,   1 linear ring,    50 point\n",
      "10 CH Switzerland               Polygon          1 poly,   1 linear ring,    41 point\n",
      "11 CY Cyprus                    Polygon          1 poly,   1 linear ring,    32 point\n",
      "12 CZ Czech Republic            Polygon          1 poly,   1 linear ring,    46 point\n",
      "13 DE Germany                   MultiPolygon     5 poly,   3 linear ring,    96 point\n",
      "14 DK Denmark                   MultiPolygon     5 poly,   5 linear ring,   169 point\n",
      "15 EE Estonia                   MultiPolygon     5 poly,   3 linear ring,   111 point\n",
      "16 ES Spain                     MultiPolygon     5 poly,   5 linear ring,   136 point\n",
      "17 FI Finland                   MultiPolygon     5 poly,   3 linear ring,    70 point\n",
      "18 FR France                    MultiPolygon     5 poly,   2 linear ring,   101 point\n",
      "19 GB United Kingdom            MultiPolygon     5 poly,   5 linear ring,   202 point\n",
      "20 GE Georgia                   Polygon          1 poly,   1 linear ring,    45 point\n",
      "21 GR Greece                    MultiPolygon     5 poly,   5 linear ring,   158 point\n",
      "22 HR Croatia                   MultiPolygon     5 poly,   5 linear ring,   115 point\n",
      "23 HU Hungary                   Polygon          1 poly,   1 linear ring,    47 point\n",
      "24 IE Ireland                   MultiPolygon     5 poly,   1 linear ring,    49 point\n",
      "25 IS Iceland                   Polygon          1 poly,   1 linear ring,    51 point\n",
      "26 IT Italy                     MultiPolygon     5 poly,   3 linear ring,   133 point\n",
      "27 LI Liechtenstein             Polygon          1 poly,   0 linear ring,     0 point\n",
      "28 LT Lithuania                 MultiPolygon     2 poly,   1 linear ring,    40 point\n",
      "29 LU Luxembourg                Polygon          1 poly,   1 linear ring,    27 point\n",
      "30 LV Latvia                    Polygon          1 poly,   1 linear ring,    46 point\n",
      "31 MC Monaco                    Polygon          1 poly,   0 linear ring,     0 point\n",
      "32 MD Moldova                   Polygon          1 poly,   1 linear ring,    39 point\n",
      "33 ME Montenegro                Polygon          1 poly,   1 linear ring,    37 point\n",
      "34 MK Macedonia                 Polygon          1 poly,   1 linear ring,    35 point\n",
      "35 MT Malta                     MultiPolygon     2 poly,   1 linear ring,    10 point\n",
      "36 NL Netherlands               MultiPolygon     5 poly,   4 linear ring,   103 point\n",
      "37 NO Norway                    MultiPolygon     5 poly,   5 linear ring,   197 point\n",
      "38 PL Poland                    Polygon          1 poly,   1 linear ring,    47 point\n",
      "39 PT Portugal                  MultiPolygon     5 poly,   5 linear ring,   105 point\n",
      "40 RO Romania                   Polygon          1 poly,   1 linear ring,    48 point\n",
      "41 RS Serbia                    Polygon          1 poly,   1 linear ring,    46 point\n",
      "42 RU Russia                    MultiPolygon     5 poly,   5 linear ring,   252 point\n",
      "43 SE Sweden                    MultiPolygon     5 poly,   3 linear ring,   107 point\n",
      "44 SI Slovenia                  Polygon          1 poly,   1 linear ring,    44 point\n",
      "45 SK Slovakia                  Polygon          1 poly,   1 linear ring,    48 point\n",
      "46 SM San Marino                Polygon          1 poly,   0 linear ring,     0 point\n",
      "47 TR Turkey                    MultiPolygon     5 poly,   2 linear ring,   100 point\n",
      "48 UA Ukraine                   MultiPolygon     4 poly,   2 linear ring,    61 point\n",
      "49 UZ Uzbekistan                Polygon          1 poly,   1 linear ring,    50 point\n",
      "50 VA Vatican City              Polygon          1 poly,   0 linear ring,     0 point\n",
      "51 XK Kosovo                    Polygon          1 poly,   1 linear ring,    21 point\n",
      "TOTAL after weeding                            128 poly,  96 linear ring,  3465 point\n",
      "TOTAL                                          667 poly, 673 linear ring, 90933 point\n",
      "IMPROVEMENT                                    539 poly, 577 linear ring, 87468 point\n"
     ]
    }
   ],
   "source": [
    "wtotal_ng = 0\n",
    "wtotal_nl = 0\n",
    "wtotal_np = 0\n",
    "\n",
    "for (i, (iso2, info)) in enumerate(sorted(eu_countries.items())):\n",
    "    geo = info['geometry']\n",
    "    shape = geo['type']\n",
    "    data = geo['coordinates']\n",
    "    new_data = weed(shape, data)\n",
    "    geo['coordinates'] = new_data\n",
    "    data = new_data\n",
    "    ng = 1 if shape == 'Polygon' else len(data)\n",
    "    np = n_points(shape, data)\n",
    "    nl = n_ll(shape, data)\n",
    "    wtotal_ng += ng\n",
    "    wtotal_nl += nl\n",
    "    wtotal_np += np\n",
    "\n",
    "    print('{:>2} {} {:<25} {:<15} {:>2} poly, {:>3} linear ring, {:>5} point'.format(\n",
    "        i+1, iso2,\n",
    "        info['name'],\n",
    "        shape,\n",
    "        ng, nl, np,\n",
    "    ))  \n",
    "print('{:<47}{:>2} poly, {:>3} linear ring, {:>5} point'.format(\n",
    "    'TOTAL after weeding', wtotal_ng, wtotal_nl, wtotal_np,\n",
    "))\n",
    "print('{:<47}{:>2} poly, {:>3} linear ring, {:>5} point'.format(\n",
    "    'TOTAL', total_ng, total_nl, total_np,\n",
    "))\n",
    "print('{:<47}{:>2} poly, {:>3} linear ring, {:>5} point'.format(\n",
    "    'IMPROVEMENT', total_ng - wtotal_ng, total_nl - wtotal_nl, total_np - wtotal_np,\n",
    "))"
   ]
  },
  {
   "cell_type": "markdown",
   "metadata": {},
   "source": [
    "## Produce geojson file"
   ]
  },
  {
   "cell_type": "code",
   "execution_count": 12,
   "metadata": {
    "collapsed": false
   },
   "outputs": [],
   "source": [
    "features = dict(\n",
    "    type='FeatureCollection',\n",
    "    features=[],\n",
    ")\n",
    "for (iso2, info) in sorted(eu_countries.items()):\n",
    "    feature = dict(\n",
    "        type='Feature',\n",
    "        properties=dict(\n",
    "            iso2=iso2,\n",
    "            lng=info['lng'],\n",
    "            lat=info['lat'],\n",
    "        ),\n",
    "        geometry=info['geometry'],\n",
    "    )\n",
    "    features['features'].append(feature)\n",
    "\n",
    "with open(OUTFILE, 'w') as f:\n",
    "    f.write('export default ')\n",
    "    json.dump(features, f)"
   ]
  },
  {
   "cell_type": "code",
   "execution_count": null,
   "metadata": {
    "collapsed": true
   },
   "outputs": [],
   "source": []
  }
 ],
 "metadata": {
  "kernelspec": {
   "display_name": "Python 3",
   "language": "python",
   "name": "python3"
  },
  "language_info": {
   "codemirror_mode": {
    "name": "ipython",
    "version": 3
   },
   "file_extension": ".py",
   "mimetype": "text/x-python",
   "name": "python",
   "nbconvert_exporter": "python",
   "pygments_lexer": "ipython3",
   "version": "3.5.2"
  }
 },
 "nbformat": 4,
 "nbformat_minor": 1
}
