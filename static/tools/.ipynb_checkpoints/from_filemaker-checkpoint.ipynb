{
 "cells": [
  {
   "cell_type": "markdown",
   "metadata": {
    "deletable": true,
    "editable": true
   },
   "source": [
    "# Importing InKind from FileMaker\n",
    "\n",
    "We use an XML export of the various tables in the FileMaker Inkind database.\n",
    "\n",
    "The XML will be read, field definitions will be extracted from it, the data will be read.\n",
    "We do the following:\n",
    "* adapt the table and field organization;\n",
    "* adjust the field types and the values, especially for datetime and currency;\n",
    "* generate value tables and cross tables;\n",
    "* add extra information for countries, so that they can be visualized on a map\n",
    "* link values to existing tables;\n",
    "* write SQL create statements and insert statements\n",
    "* import a moderately denormalized version of the data into MongoDB"
   ]
  },
  {
   "cell_type": "code",
   "execution_count": 139,
   "metadata": {
    "collapsed": false,
    "deletable": true,
    "editable": true,
    "scrolled": true
   },
   "outputs": [],
   "source": [
    "import os,sys,re,collections,json\n",
    "from os.path import splitext, basename\n",
    "from copy import deepcopy\n",
    "from functools import reduce\n",
    "from glob import glob\n",
    "from lxml import etree\n",
    "from datetime import datetime\n",
    "from pymongo import MongoClient\n",
    "from bson.objectid import ObjectId"
   ]
  },
  {
   "cell_type": "markdown",
   "metadata": {
    "deletable": true,
    "editable": true
   },
   "source": [
    "# Locations"
   ]
  },
  {
   "cell_type": "code",
   "execution_count": 140,
   "metadata": {
    "collapsed": true,
    "deletable": true,
    "editable": true,
    "scrolled": true
   },
   "outputs": [],
   "source": [
    "HOME_DIR = os.path.expanduser('~').replace('\\\\', '/')\n",
    "BASE_DIR = '{}/Documents/DANS/projects/has/dacs'.format(HOME_DIR)\n",
    "FM_DIR = '{}/fm'.format(BASE_DIR)\n",
    "FMNS = '{http://www.filemaker.com/fmpxmlresult}'"
   ]
  },
  {
   "cell_type": "markdown",
   "metadata": {
    "deletable": true,
    "editable": true
   },
   "source": [
    "# Data description\n",
    "\n",
    "## Main source tables and fields to skip"
   ]
  },
  {
   "cell_type": "code",
   "execution_count": 141,
   "metadata": {
    "collapsed": true,
    "deletable": true,
    "editable": true,
    "scrolled": true
   },
   "outputs": [],
   "source": [
    "mainTables = ('contrib', 'country')\n",
    "\n",
    "SKIP_FIELDS = dict(\n",
    "    contrib=set('''\n",
    "dateandtime_ciozero\n",
    "ikid\n",
    "ikid_base\n",
    "find_country_id\n",
    "find_type\n",
    "gnewpassword\n",
    "gnewpassword2\n",
    "goldpassword\n",
    "help_description\n",
    "help_text\n",
    "message\n",
    "message_allert\n",
    "teller\n",
    "total_costs_total\n",
    "whois\n",
    "'''.strip().split()),\n",
    "    country=set('''\n",
    "'''.strip().split()),\n",
    ")"
   ]
  },
  {
   "cell_type": "markdown",
   "metadata": {
    "deletable": true,
    "editable": true
   },
   "source": [
    "## Fields to merge"
   ]
  },
  {
   "cell_type": "code",
   "execution_count": 142,
   "metadata": {
    "collapsed": true,
    "deletable": true,
    "editable": true,
    "scrolled": true
   },
   "outputs": [],
   "source": [
    "MERGE_FIELDS = dict(\n",
    "    contrib=dict(\n",
    "        academic_entity_url=['academic_entity_url_2'],\n",
    "        contribution_url=['contribution_url_2'],\n",
    "        contact_person_mail=['contact_person_mail_2'],\n",
    "        type_of_inkind=['other_type_of_inkind'],\n",
    "        vcc11_name=[\n",
    "            'vcc12_name',\n",
    "            'vcc21_name',\n",
    "            'vcc22_name',\n",
    "            'vcc31_name',\n",
    "            'vcc32_name',\n",
    "            'vcc41_name',\n",
    "            'vcc42_name',\n",
    "        ],\n",
    "        vcc_head_decision_vcc11=[\n",
    "            'vcc_head_decision_vcc12',\n",
    "            'vcc_head_decision_vcc21',\n",
    "            'vcc_head_decision_vcc22',\n",
    "            'vcc_head_decision_vcc31',\n",
    "            'vcc_head_decision_vcc32',\n",
    "            'vcc_head_decision_vcc41',\n",
    "            'vcc_head_decision_vcc42',\n",
    "        ],\n",
    "    ),\n",
    "    country=dict(),\n",
    ")"
   ]
  },
  {
   "cell_type": "markdown",
   "metadata": {
    "deletable": true,
    "editable": true
   },
   "source": [
    "## Fields to rename"
   ]
  },
  {
   "cell_type": "code",
   "execution_count": 143,
   "metadata": {
    "collapsed": true,
    "deletable": true,
    "editable": true,
    "scrolled": true
   },
   "outputs": [],
   "source": [
    "MAP_FIELDS = dict(\n",
    "    contrib=dict(\n",
    "        approved='approved',\n",
    "        academic_entity_url='urlAcademic',\n",
    "        contribution_url='urlContribution',\n",
    "        contact_person_mail='contactPersonEmail',\n",
    "        contact_person_name='contactPersonName',\n",
    "        costs_description='costDescription',\n",
    "        costs_total='costTotal',\n",
    "        country='country',\n",
    "        creation_date_time='dateCreated',\n",
    "        creator='creator',\n",
    "        dateandtime_approval='dateApproved',\n",
    "        dateandtime_cioapproval='dateApprovedCIO',\n",
    "        description_of_contribution='description',\n",
    "        disciplines_associated='disciplines',\n",
    "        last_modifier='modifiedBy',\n",
    "        modification_date_time='dateModified',\n",
    "        other_keywords='keywords',\n",
    "        submit='submitted',\n",
    "        tadirah_research_activities='tadirahActivities',\n",
    "        tadirah_research_objects='tadirahObjects',\n",
    "        tadirah_research_techniques='tadirahTechniques',\n",
    "        title='title',\n",
    "        total_costs_total='costTotalTotal',\n",
    "        type_of_inkind='typeContribution',\n",
    "        vcc='vcc',\n",
    "        vcc11_name='reviewerNames',\n",
    "        vcc_head_decision='vccDecision',\n",
    "        vcc_head_decision_vcc11='reviewerDecision',\n",
    "        vcchead_approval='vccApproval',\n",
    "        vcchead_disapproval='vccDisApproval',\n",
    "        year='year',\n",
    "    ),\n",
    "    country=dict(\n",
    "        countrycode='iso',\n",
    "        countryname='name',\n",
    "        member_dariah='isMember',\n",
    "    ),\n",
    ")"
   ]
  },
  {
   "cell_type": "markdown",
   "metadata": {
    "deletable": true,
    "editable": true
   },
   "source": [
    "## Fields to split into multiple values"
   ]
  },
  {
   "cell_type": "code",
   "execution_count": 144,
   "metadata": {
    "collapsed": false,
    "deletable": true,
    "editable": true,
    "scrolled": true
   },
   "outputs": [],
   "source": [
    "generic = re.compile('[ \\t]*[\\n+][ \\t\\n]*')          # split on newlines (with surrounding white space)\n",
    "genericComma = re.compile('[ \\t]*[\\n+,;][ \\t\\n]*')    # split on newlines or commas (with surrounding white space)\n",
    "\n",
    "SPLIT_FIELDS=dict(\n",
    "    contrib=dict(\n",
    "        disciplines=generic,\n",
    "        keywords=genericComma,\n",
    "        typeContribution=generic,\n",
    "        tadirahActivities=generic,\n",
    "        tadirahObjects=generic,\n",
    "        tadirahTechniques=generic,\n",
    "        vcc=generic,\n",
    "    ),\n",
    "    country=dict(),\n",
    ")"
   ]
  },
  {
   "cell_type": "markdown",
   "metadata": {
    "deletable": true,
    "editable": true
   },
   "source": [
    "## Fields to hack"
   ]
  },
  {
   "cell_type": "code",
   "execution_count": 145,
   "metadata": {
    "collapsed": true,
    "deletable": true,
    "editable": true,
    "scrolled": true
   },
   "outputs": [],
   "source": [
    "STRIP_NUM = re.compile('^[0-9]\\s*\\.?\\s+')\n",
    "\n",
    "def stripNum(v): return STRIP_NUM.sub('', v)\n",
    "    \n",
    "HACK_FIELDS=dict(\n",
    "    contrib=dict(\n",
    "        tadirahActivities=stripNum,\n",
    "    ),\n",
    "    country=dict(),\n",
    ")"
   ]
  },
  {
   "cell_type": "markdown",
   "metadata": {
    "deletable": true,
    "editable": true
   },
   "source": [
    "## Fields to decompose into several fields"
   ]
  },
  {
   "cell_type": "code",
   "execution_count": 146,
   "metadata": {
    "collapsed": true,
    "deletable": true,
    "editable": true,
    "scrolled": true
   },
   "outputs": [],
   "source": [
    "DECOMPOSE_FIELDS=dict(\n",
    "    contrib=dict(\n",
    "        typeContribution='typeContributionOther',\n",
    "    ),\n",
    "    country=dict(),\n",
    ")"
   ]
  },
  {
   "cell_type": "markdown",
   "metadata": {
    "deletable": true,
    "editable": true
   },
   "source": [
    "## Custom field types"
   ]
  },
  {
   "cell_type": "code",
   "execution_count": 147,
   "metadata": {
    "collapsed": true,
    "deletable": true,
    "editable": true,
    "scrolled": true
   },
   "outputs": [],
   "source": [
    "FIELD_TYPE = dict(\n",
    "    contrib=dict(\n",
    "        costTotal='valuta',\n",
    "        dateCreated='datetime',\n",
    "        dateModified='datetime',\n",
    "        dateApproved='datetime',\n",
    "        dateApprovedCIO='datetime',\n",
    "        contactPersonEmail='email',\n",
    "        submitted='bool',\n",
    "        approved='bool',\n",
    "        reviewerDecision='bool',\n",
    "        vccApproval='bool',\n",
    "        vccDecision='bool',\n",
    "        vccDisApproval='bool',\n",
    "    ),\n",
    "    country=dict(\n",
    "        isMember='bool',\n",
    "    ),\n",
    ")"
   ]
  },
  {
   "cell_type": "markdown",
   "metadata": {
    "deletable": true,
    "editable": true
   },
   "source": [
    "## Default values"
   ]
  },
  {
   "cell_type": "code",
   "execution_count": 148,
   "metadata": {
    "collapsed": true,
    "deletable": true,
    "editable": true,
    "scrolled": true
   },
   "outputs": [],
   "source": [
    "DEFAULT_VALUES=dict(\n",
    "    contrib=dict(\n",
    "        dateCreated=datetime(2000,1,1,0,0,0),\n",
    "        creator=\"admin\",\n",
    "        type_of_inkind=\"General\",\n",
    "    ),\n",
    "    country=dict(),\n",
    ")"
   ]
  },
  {
   "cell_type": "markdown",
   "metadata": {
    "deletable": true,
    "editable": true
   },
   "source": [
    "## Fields to move to other tables"
   ]
  },
  {
   "cell_type": "code",
   "execution_count": 149,
   "metadata": {
    "collapsed": false,
    "deletable": true,
    "editable": true,
    "scrolled": true
   },
   "outputs": [],
   "source": [
    "MOVE_FIELDS=dict(\n",
    "    contrib=dict(\n",
    "        assessment=set('''\n",
    "approved\n",
    "dateApproved\n",
    "dateApprovedCIO\n",
    "submitted\n",
    "reviewerNames\n",
    "reviewerDecision\n",
    "vccDecision\n",
    "vccApproval\n",
    "vccDisApproval\n",
    "        '''.strip().split()),\n",
    "    ),\n",
    "    country=dict(),\n",
    ")"
   ]
  },
  {
   "cell_type": "markdown",
   "metadata": {
    "deletable": true,
    "editable": true
   },
   "source": [
    "## Fields to value lists"
   ]
  },
  {
   "cell_type": "code",
   "execution_count": 150,
   "metadata": {
    "collapsed": true,
    "deletable": true,
    "editable": true,
    "scrolled": true
   },
   "outputs": [],
   "source": [
    "MAKE_VALUE_LISTS = dict(\n",
    "    contrib=set('''\n",
    "keywords\n",
    "year\n",
    "'''.strip().split()),\n",
    ")\n",
    "VALUE_LISTS = dict(\n",
    "    contrib=set('''\n",
    "disciplines\n",
    "keywords\n",
    "tadirahActivities\n",
    "tadirahObjects\n",
    "tadirahTechniques\n",
    "typeContribution\n",
    "typeContributionOther:typeContribution\n",
    "vcc\n",
    "year\n",
    "'''.strip().split()),\n",
    ")\n",
    "\n",
    "MOVE_MISSING = dict(\n",
    "    contrib='description',\n",
    ")"
   ]
  },
  {
   "cell_type": "markdown",
   "metadata": {
    "deletable": true,
    "editable": true
   },
   "source": [
    "# Field values\n",
    "## Patterns for value types"
   ]
  },
  {
   "cell_type": "code",
   "execution_count": 151,
   "metadata": {
    "collapsed": true,
    "deletable": true,
    "editable": true,
    "scrolled": true
   },
   "outputs": [],
   "source": [
    "# Source field types, including types assigned by type overriding (see FIELD_TYPE_OVERRIDE above).\n",
    "# These will be translated into appropriate SQL field types\n",
    "\n",
    "TYPES = {'bool', 'number', 'decimal', 'text', 'valuta', 'email', 'date', 'datetime'}\n",
    "\n",
    "# dates are already in ISO (date2_pattern).\n",
    "# If we encounter other dates, we could use date_pattern instead)\n",
    "# datetimes are not in iso, they will be transformed to iso.\n",
    "\n",
    "DECIMAL_PATTERN = re.compile(\n",
    "    r'^-?[0-9]+\\.?[0-9]*'\n",
    ")\n",
    "DATE_PATTERN = re.compile(\n",
    "    r'^\\s*([0-9]{2})/([0-9]{2})/([0-9]{4})$'\n",
    ")\n",
    "DATE2_PATTERN = re.compile(\n",
    "    r'^\\s*([0-9]{4})-([0-9]{2})-([0-9]{2})$'\n",
    ")\n",
    "DATETIME_PATTERN = re.compile(\n",
    "    r'^\\s*([0-9]{2})/([0-9]{2})/([0-9]{4})\\s+([0-9]{2}):([0-9]{2})(?::([0-9]{2}))?$'\n",
    ")\n",
    "\n",
    "# meaningless values will be translated into None\n",
    "NULL_VALUES = {\n",
    "    'http://',\n",
    "    'https://',\n",
    "    '@',\n",
    "}\n",
    "\n",
    "BOOL_VALUES = {\n",
    "    True: {'Yes', 'YES', 'yes', 1, '1', True},\n",
    "    False: {'No', 'NO', 'no', 0, '0', 'NULL', False},\n",
    "}"
   ]
  },
  {
   "cell_type": "markdown",
   "metadata": {
    "deletable": true,
    "editable": true
   },
   "source": [
    "## Date and Time values"
   ]
  },
  {
   "cell_type": "code",
   "execution_count": 152,
   "metadata": {
    "collapsed": true,
    "deletable": true,
    "editable": true,
    "scrolled": true
   },
   "outputs": [],
   "source": [
    "def date_repl(match):\n",
    "    [d,m,y] = list(match.groups())\n",
    "    return '{}-{}-{}'.format(y,m,d)\n",
    "    \n",
    "def date2_repl(match):\n",
    "    [y,m,d] = list(match.groups())\n",
    "    return '{}-{}-{}'.format(y,m,d)\n",
    "    \n",
    "def datetime_repl(match):\n",
    "    [d,m,y,hr,mn,sc] = list(match.groups())\n",
    "    return '{}-{}-{}T{}:{}:{}'.format(y,m,d,hr,mn,sc or '00')\n",
    "\n",
    "def dt(v_raw, i, t, fname):\n",
    "    if not DATE2_PATTERN.match(v_raw):\n",
    "        warning(\n",
    "            'table `{}` field `{}` record {}: not a valid date: \"{}\"'.format(\n",
    "                t, fname, i, v_raw\n",
    "        ))\n",
    "        return v_raw\n",
    "    return datetime(*map(int, re.split('[:T-]', DATE2_PATTERN.sub(date2_repl, v_raw))))\n",
    "\n",
    "def dtm(v_raw, i, t, fname):\n",
    "    if not DATETIME_PATTERN.match(v_raw):\n",
    "        warning(\n",
    "            'table `{}` field `{}` record {}: not a valid date time: \"{}\"'.format(\n",
    "                t, fname, i, v_raw\n",
    "        ))\n",
    "        return v_raw\n",
    "    return datetime(*map(int, re.split('[:T-]', DATETIME_PATTERN.sub(datetime_repl, v_raw))))"
   ]
  },
  {
   "cell_type": "markdown",
   "metadata": {
    "deletable": true,
    "editable": true
   },
   "source": [
    "## Boolean, numeric and string values"
   ]
  },
  {
   "cell_type": "code",
   "execution_count": 153,
   "metadata": {
    "collapsed": true,
    "deletable": true,
    "editable": true,
    "scrolled": true
   },
   "outputs": [],
   "source": [
    "def bools(v_raw, i, t, fname):\n",
    "    if v_raw in BOOL_VALUES[True]: return True\n",
    "    if v_raw in BOOL_VALUES[False]: return False\n",
    "    warning(\n",
    "        'table `{}` field `{}` record {}: not a boolean value: \"{}\"'.format(\n",
    "            t, fname, i, v_raw\n",
    "    ))\n",
    "    return v_raw\n",
    "\n",
    "def num(v_raw, i, t, fname):\n",
    "    if type(v_raw) is int: return v_raw\n",
    "    if v_raw.isdigit(): return int(v_raw)\n",
    "    warning(\n",
    "        'table `{}` field `{}` record {}: not an integer: \"{}\"'.format(\n",
    "            t, fname, i, v_raw\n",
    "    ))\n",
    "    return v_raw\n",
    "\n",
    "def decimal(v_raw, i, t, fname):\n",
    "    if type(v_raw) is float: return v_raw\n",
    "    if v_raw.isdigit(): return float(v_raw)\n",
    "    if DECIMAL_PATTERN.match(v_raw): return float(v_raw)\n",
    "    warning(\n",
    "        'table `{}` field `{}` record {}: not an integer: \"{}\"'.format(\n",
    "            t, fname, i, v_raw\n",
    "    ))\n",
    "    return v_raw\n",
    "\n",
    "def email(v_raw, i, t, fname):\n",
    "    return v_raw.replace('mailto:', '', 1) if v_raw.startswith('mailto:') else v_raw"
   ]
  },
  {
   "cell_type": "markdown",
   "metadata": {
    "deletable": true,
    "editable": true
   },
   "source": [
    "## Money values"
   ]
  },
  {
   "cell_type": "code",
   "execution_count": 154,
   "metadata": {
    "collapsed": false,
    "deletable": true,
    "editable": true,
    "scrolled": true
   },
   "outputs": [],
   "source": [
    "def money(v_raw, i, t, fname):\n",
    "    note = ',' in v_raw or '.' in v_raw\n",
    "    v = v_raw.strip().lower().replace(' ','').replace('€', '').replace('euro', '').replace('\\u00a0', '')\n",
    "    for p in range(2,4): # interpret . or , as decimal point if less than 3 digits follow it\n",
    "        if len(v) >= p and v[-p] in '.,': \n",
    "            v_i = v[::-1]\n",
    "            if v_i[p-1] == ',': v_i = v_i.replace(',', 'D', 1)\n",
    "            elif v_i[p-1] == '.': v_i = v_i.replace('.', 'D', 1)\n",
    "            v = v_i[::-1]\n",
    "    v = v.replace('.','').replace(',','')\n",
    "    v = v.replace('D', '.')\n",
    "    if not v.replace('.','').isdigit():\n",
    "        if len(set(v) & set('0123456789')):\n",
    "            warning(\n",
    "                'table `{}` field `{}` record {}: not a decimal number: \"{}\" <= \"{}\"'.format(\n",
    "                    t, fname, i, v, v_raw,\n",
    "            ))\n",
    "            money_warnings.setdefault('{}:{}'.format(t, fname), {}).setdefault(v, set()).add(v_raw)\n",
    "            v = None\n",
    "        else:\n",
    "            v = None\n",
    "            money_notes.setdefault('{}:{}'.format(t, fname), {}).setdefault('NULL', set()).add(v_raw)\n",
    "    elif note:\n",
    "        money_notes.setdefault('{}:{}'.format(t, fname), {}).setdefault(v, set()).add(v_raw)\n",
    "    return None if v == None else float(v)"
   ]
  },
  {
   "cell_type": "markdown",
   "metadata": {
    "deletable": true,
    "editable": true
   },
   "source": [
    "## Clean up field values"
   ]
  },
  {
   "cell_type": "code",
   "execution_count": 155,
   "metadata": {
    "collapsed": true,
    "deletable": true,
    "editable": true,
    "scrolled": true
   },
   "outputs": [],
   "source": [
    "def sanitize(t, i, fname, value):\n",
    "    if fname == '_id': return value\n",
    "    (ftype, fmult) = allFields[t][fname]\n",
    "    newValue = []\n",
    "    for v_raw in value:\n",
    "        if v_raw == None or v_raw in NULL_VALUES: continue\n",
    "        elif ftype == 'text': v = v_raw\n",
    "        elif ftype == 'bool': v = bools(v_raw, i, t, fname)\n",
    "        elif ftype == 'number': v = num(v_raw, i, t, fname)\n",
    "        elif ftype == 'decimal': v = decimal(v_raw, i, t, fname)\n",
    "        elif ftype == 'email': v = email(v_raw, i, t, fname)\n",
    "        elif ftype == 'valuta': v = money(v_raw, i, t, fname)\n",
    "        elif ftype == 'date': v = dt(v_raw, i, t, fname)\n",
    "        elif ftype == 'datetime': v = dtm(v_raw, i, t, fname)\n",
    "        else: v = v_raw\n",
    "        if v != None: newValue.append(v)\n",
    "    if len(newValue) == 0:\n",
    "        defValue = DEFAULT_VALUES.get(t, {}).get(fname, None)\n",
    "        if defValue != None:\n",
    "            newValue = [defValue]\n",
    "    return newValue"
   ]
  },
  {
   "cell_type": "markdown",
   "metadata": {
    "deletable": true,
    "editable": true
   },
   "source": [
    "# Show information"
   ]
  },
  {
   "cell_type": "code",
   "execution_count": 156,
   "metadata": {
    "collapsed": false,
    "deletable": true,
    "editable": true,
    "scrolled": true
   },
   "outputs": [],
   "source": [
    "def info(x): sys.stdout.write('{}\\n'.format(x))\n",
    "def warning(x): sys.stderr.write('{}\\n'.format(x))\n",
    "\n",
    "def showFields():\n",
    "    for (mt, defs) in sorted(allFields.items()):\n",
    "        info(mt)\n",
    "        for (fname, fdef) in sorted(defs.items()):\n",
    "            info('{:>25}: {:<10} ({})'.format(fname, *fdef))\n",
    "\n",
    "def showdata(rows):\n",
    "    for row in rows:\n",
    "        for f in sorted(row.items()):\n",
    "            info('{:>20} = {}'.format(*f))\n",
    "        info('o-o-o-o-o-o-o-o-o-o-o-o')\n",
    "\n",
    "def showData():\n",
    "    for (mt, rows) in sorted(allData.items()):\n",
    "        info('o-o-o-o-o-o-o TABLE {} with {} rows o-o-o-o-o-o-o-o '.format(mt, len(rows)))\n",
    "        showdata(rows[0:2])\n",
    "\n",
    "def showMoney():\n",
    "    for tf in sorted(money_notes):\n",
    "        for v in sorted(money_notes[tf]):\n",
    "            info('{} \"{}\" <= {}'.format(\n",
    "                tf, v,\n",
    "                ' | '.join(money_notes[tf][v]),\n",
    "        ))"
   ]
  },
  {
   "cell_type": "markdown",
   "metadata": {
    "deletable": true,
    "editable": true
   },
   "source": [
    "# Read FM fields"
   ]
  },
  {
   "cell_type": "code",
   "execution_count": 157,
   "metadata": {
    "collapsed": true,
    "deletable": true,
    "editable": true,
    "scrolled": true
   },
   "outputs": [],
   "source": [
    "def readFmFields():\n",
    "    for mt in mainTables:\n",
    "        infile = '{}/{}.xml'.format(FM_DIR, mt)\n",
    "        root = etree.parse(infile, parser).getroot()\n",
    "        fieldroots = [x for x in root.iter(FMNS+'METADATA')]\n",
    "        fieldroot = fieldroots[0]\n",
    "        fields = []\n",
    "        fieldDefs = {}\n",
    "        for x in fieldroot.iter(FMNS+'FIELD'):\n",
    "            fname = x.get('NAME').lower().replace(' ','_').replace(':', '_')\n",
    "            ftype = x.get('TYPE').lower()\n",
    "            fmult = int(x.get('MAXREPEAT'))\n",
    "            fields.append(fname)\n",
    "            fieldDefs[fname] = [ftype, fmult]\n",
    "        rawFields[mt] = fields\n",
    "        allFields[mt] = fieldDefs\n",
    "\n",
    "        for f in SKIP_FIELDS[mt]:\n",
    "            del allFields[mt][f]\n",
    "\n",
    "        for (f, mfs) in MERGE_FIELDS[mt].items():\n",
    "            allFields[mt][f][1] += 1\n",
    "            for mf in mfs:\n",
    "                del allFields[mt][mf]\n",
    "        allFields[mt] = dict((MAP_FIELDS[mt][f], v) for (f,v) in allFields[mt].items())\n",
    "        for f in SPLIT_FIELDS[mt]:\n",
    "            allFields[mt][f][1] += 1\n",
    "        for (f, fo) in DECOMPOSE_FIELDS[mt].items():\n",
    "            allFields[mt][fo] = allFields[mt][f]\n",
    "            allFields[mt][f] = [allFields[mt][f][0], 1]\n",
    "        for (f, t) in FIELD_TYPE[mt].items():\n",
    "            allFields[mt][f][0] = t"
   ]
  },
  {
   "cell_type": "markdown",
   "metadata": {
    "deletable": true,
    "editable": true
   },
   "source": [
    "# Read FM data"
   ]
  },
  {
   "cell_type": "code",
   "execution_count": 158,
   "metadata": {
    "collapsed": false,
    "deletable": true,
    "editable": true,
    "scrolled": true
   },
   "outputs": [],
   "source": [
    "def readFmData():\n",
    "    for mt in mainTables:\n",
    "        infile = '{}/{}.xml'.format(FM_DIR, mt)\n",
    "        root = etree.parse(infile, parser).getroot()\n",
    "        dataroots = [x for x in root.iter(FMNS+'RESULTSET')]\n",
    "        dataroot = dataroots[0]\n",
    "        rows = []\n",
    "        rowsRaw = []\n",
    "        fields = rawFields[mt]\n",
    "        for (i, r) in enumerate(dataroot.iter(FMNS+'ROW')):\n",
    "            rowRaw = []\n",
    "            for c in r.iter(FMNS+'COL'):\n",
    "                data = [x.text.strip() for x in c.iter(FMNS+'DATA') if x.text != None]\n",
    "                rowRaw.append(data)\n",
    "            if len(rowRaw) != len(fields):\n",
    "                warning('row {}: fields encountered = {}, should be {}'.format(len(row), len(fields)))\n",
    "            rowsRaw.append(dict((f,v) for (f, v) in zip(fields, rowRaw)))\n",
    "            row = dict((f,v) for (f, v) in zip(fields, rowRaw) if f not in SKIP_FIELDS[mt])\n",
    "            for (f, mfs) in MERGE_FIELDS[mt].items():\n",
    "                for mf in mfs:\n",
    "                    row[f].extend(row[mf])\n",
    "                    del row[mf]\n",
    "            row = dict((MAP_FIELDS[mt][f], v) for (f,v) in row.items())\n",
    "            for (f, spl) in SPLIT_FIELDS[mt].items():\n",
    "                row[f] = reduce(lambda x,y: x+y, [spl.split(v) for v in row[f]], [])\n",
    "            for (f, hack) in HACK_FIELDS[mt].items():\n",
    "                row[f] = [hack(v) for v in row[f]]\n",
    "            for (f, fo) in DECOMPOSE_FIELDS[mt].items():\n",
    "                row[fo] = row[f][1:]\n",
    "                row[f] = [row[f][0]] if len(row[f]) else []\n",
    "            row['_id'] = ObjectId()\n",
    "            #info('\\n'.join('{}={}'.format(*x) for x in sorted(row.items())))\n",
    "            for (f, v) in row.items(): row[f] = sanitize(mt, i, f, v)\n",
    "            rows.append(row)\n",
    "        allData[mt] = rows\n",
    "        rawData[mt] = rowsRaw\n",
    "\n",
    "    if money_warnings:\n",
    "        for tf in sorted(money_warnings):\n",
    "            for v in sorted(money_warnings[tf]):\n",
    "                warning('{} \"{}\" <= {}'.format(\n",
    "                    tf, v,\n",
    "                    ' | '.join(money_warnings[tf][v]),\n",
    "            ))"
   ]
  },
  {
   "cell_type": "markdown",
   "metadata": {
    "deletable": true,
    "editable": true
   },
   "source": [
    "# Split tables into several tables by column groups"
   ]
  },
  {
   "cell_type": "code",
   "execution_count": 159,
   "metadata": {
    "collapsed": false,
    "deletable": true,
    "editable": true,
    "scrolled": true
   },
   "outputs": [],
   "source": [
    "def moveFields():\n",
    "    for mt in mainTables:\n",
    "        for (omt, mfs) in MOVE_FIELDS[mt].items():\n",
    "            for mf in mfs:\n",
    "                allFields.setdefault(omt, dict())[mf] = allFields[mt][mf]\n",
    "                del allFields[mt][mf]\n",
    "            allFields.setdefault(omt, dict)['{}_id'.format(mt)] = ('id', 1)\n",
    "\n",
    "        for row in allData[mt]:\n",
    "            for (omt, mfs) in MOVE_FIELDS[mt].items():\n",
    "                orow = dict((mf, row[mf]) for mf in mfs)\n",
    "                orow['_id'] = ObjectId()\n",
    "                orow['{}_id'.format(mt)] = row['_id']\n",
    "                allData.setdefault(omt, []).append(orow)\n",
    "                for mf in mfs: del row[mf]"
   ]
  },
  {
   "cell_type": "markdown",
   "metadata": {
    "deletable": true,
    "editable": true
   },
   "source": [
    "# Value Lists"
   ]
  },
  {
   "cell_type": "code",
   "execution_count": 160,
   "metadata": {
    "collapsed": false,
    "deletable": true,
    "editable": true,
    "scrolled": true
   },
   "outputs": [],
   "source": [
    "def readLists():\n",
    "    valueLists = dict()\n",
    "    for path in glob('{}/*.txt'.format(FM_DIR)):\n",
    "        tname = basename(splitext(path)[0])\n",
    "        data = []\n",
    "        with open(path) as fh:\n",
    "            for line in fh:\n",
    "                data.append(line.rstrip().split('\\t'))\n",
    "        valueLists[tname] = data\n",
    "\n",
    "    for (vList, data) in valueLists.items():\n",
    "        if vList == 'countryExtra':\n",
    "            mapping = dict((x[0], x[1:]) for x in data)\n",
    "        else:\n",
    "            mapping = dict((i+1, x[0]) for (i, x) in enumerate(data))\n",
    "        valueDict[vList] = mapping\n",
    "        allFields[vList] = dict(\n",
    "            _id=('id', 1),\n",
    "            value=('string', 1),\n",
    "        )\n",
    "    \n",
    "    for mt in allData:\n",
    "        fs = MAKE_VALUE_LISTS.get(mt, set())\n",
    "        for f in fs:\n",
    "            valSet = set()\n",
    "            for row in allData[mt]:\n",
    "                values = row.get(f, [])\n",
    "                if type(values) is not list:\n",
    "                    values = [values]\n",
    "                valSet |= set(values)\n",
    "            valueDict[f] = dict((i+1, x) for (i, x) in enumerate(sorted(valSet)))\n",
    "            allFields[f] = dict(\n",
    "                _id=('id', 1),\n",
    "                value=('string', 1),\n",
    "            )"
   ]
  },
  {
   "cell_type": "markdown",
   "metadata": {
    "deletable": true,
    "editable": true
   },
   "source": [
    "# Country table"
   ]
  },
  {
   "cell_type": "code",
   "execution_count": 161,
   "metadata": {
    "collapsed": false,
    "deletable": true,
    "editable": true,
    "scrolled": true
   },
   "outputs": [],
   "source": [
    "def countryTable():\n",
    "    extraInfo = valueDict['countryExtra']\n",
    "    idMapping = dict()\n",
    "\n",
    "    for row in allData['country']:\n",
    "        for f in row:\n",
    "            if type(row[f]) is list: row[f] = row[f][0]\n",
    "        iso = row['iso']\n",
    "        row['_id'] = ObjectId()\n",
    "        idMapping[iso] = row['_id']\n",
    "        (name, lat, long) = extraInfo[iso]\n",
    "        row['latitude'] = lat\n",
    "        row['longitude'] = long\n",
    "\n",
    "    for row in allData['contrib']:\n",
    "        newValue = []\n",
    "        for iso in row['country']:\n",
    "            newValue.append(dict(_id=idMapping[iso], iso=iso, value=extraInfo[iso][0]))\n",
    "        row['country'] = newValue\n",
    "    \n",
    "    allFields['country']['_id'] = ('id', 1)\n",
    "    allFields['country']['iso'] = ('string', 1)\n",
    "    allFields['country']['latitude'] = ('float', 1)\n",
    "    allFields['country']['longitude'] = ('float', 1)\n"
   ]
  },
  {
   "cell_type": "markdown",
   "metadata": {
    "deletable": true,
    "editable": true
   },
   "source": [
    "# User table"
   ]
  },
  {
   "cell_type": "code",
   "execution_count": 162,
   "metadata": {
    "collapsed": false,
    "deletable": true,
    "editable": true,
    "scrolled": true
   },
   "outputs": [],
   "source": [
    "def usersTable():\n",
    "    idMapping = dict()\n",
    "    existingUsers = []\n",
    "    testUsers = [\n",
    "        dict(eppn='suzan', email='suzan1@test.eu', mayLogin=True, authority='local', \n",
    "             firstName='Suzan', lastName='Karelse'),\n",
    "        dict(eppn='marie', email='suzan2@test.eu', mayLogin=True, authority='local',\n",
    "            firstName='Marie', lastName='Pieterse'),\n",
    "        dict(eppn='gertjan', email='gertjan@test.eu', mayLogin=False, authority='local',\n",
    "            firstName='Gert Jan', lastName='Klein-Holgerink'),\n",
    "        dict(eppn='lisa', email='lisa@test.eu', mayLogin=True, authority='local',\n",
    "            firstName='Lisa', lastName='de Leeuw'),\n",
    "        dict(eppn='dirk', email='dirk@test.eu', mayLogin=True, authority='local',\n",
    "            firstName='Dirk', lastName='Roorda'),\n",
    "    ]    \n",
    "\n",
    "    users = collections.defaultdict(set)\n",
    "    eppnSet = set()\n",
    "    for c in allData['contrib']:\n",
    "        crs = c.get('creator', []) + c.get('modifiedBy', [])\n",
    "        for cr in crs:\n",
    "            eppnSet.add(cr)\n",
    "    idMapping = dict((eppn, ObjectId()) for eppn in sorted(eppnSet))\n",
    "    for c in allData['contrib']:\n",
    "        c['creator'] = [dict(_id=idMapping[cr]) for cr in c['creator']]\n",
    "\n",
    "        if 'modifiedBy' not in c:\n",
    "            c['modifiedBy'] = []\n",
    "        else:\n",
    "            c['modifiedBy'] = [dict(_id=idMapping[cr]) for cr in c['modifiedBy']]\n",
    "\n",
    "    users = dict((i, eppn) for (eppn, i) in idMapping.items())\n",
    "    for (i, eppn) in sorted(users.items()):\n",
    "        existingUsers.append(dict(_id=i, eppn=eppn, mayLogin=False, authority='legacy'))\n",
    "\n",
    "    for u in testUsers:\n",
    "        u['_id'] = ObjectId()\n",
    "        idMapping[u['eppn']] = u['_id']\n",
    "        existingUsers.append(u)\n",
    "    inGroups = [\n",
    "        dict(eppn='DirkRoorda@dariah.eu', authority='DARIAH', group='sys'),\n",
    "        dict(eppn='LisaDeLeeuw@dariah.eu', authority='DARIAH', group='man'),\n",
    "        dict(eppn='suzan', authority='local', group='auth'),\n",
    "        dict(eppn='marie', authority='local', group='auth'),\n",
    "        dict(eppn='gertjan', authority='local', group='auth'),\n",
    "        dict(eppn='lisa', authority='local', group='man'),\n",
    "        dict(eppn='dirk', authority='local', group='sys'),\n",
    "    ]\n",
    "    inGroups = [dict(tuple(ig.items())+(('_id', ObjectId()),)) for ig in inGroups]\n",
    "    allData['users'] = existingUsers\n",
    "    allData['groups'] = inGroups\n",
    "    \n",
    "    allFields['users'] = dict(\n",
    "        _id=('id', 1),\n",
    "        eppn=('string', 1),\n",
    "        email=('email', 1),\n",
    "        mayLogin=('bool', 1),\n",
    "        authority=('string', 1),\n",
    "        firstName=('string', 1),\n",
    "        lastName=('string', 1),\n",
    "    )\n",
    "    allFields['groups'] = dict(\n",
    "        _id=('id', 1),\n",
    "        eppn=('string', 1),\n",
    "        authority=('string', 1),\n",
    "        group=('string', 1),\n",
    "    )\n",
    "    uidMapping.update(idMapping)"
   ]
  },
  {
   "cell_type": "markdown",
   "metadata": {
    "deletable": true,
    "editable": true
   },
   "source": [
    "# Related tables\n"
   ]
  },
  {
   "cell_type": "code",
   "execution_count": 163,
   "metadata": {
    "collapsed": false,
    "deletable": true,
    "editable": true,
    "scrolled": true
   },
   "outputs": [],
   "source": [
    "def relTables():\n",
    "    def norm(x): return x.strip().lower()\n",
    "    \n",
    "    relIndex = dict()\n",
    "    for mt in sorted(VALUE_LISTS):\n",
    "        rows = allData[mt]\n",
    "        for f in sorted(VALUE_LISTS[mt]):\n",
    "            comps = f.split(':')\n",
    "            if len(comps) == 2:\n",
    "                (f, fAs) = comps\n",
    "            else:\n",
    "                fAs = f\n",
    "            relInfo = valueDict[fAs]\n",
    "            if not fAs in relIndex:\n",
    "                idMapping = dict((i, ObjectId()) for i in relInfo)\n",
    "                allData[fAs] = [dict(_id=idMapping[i], value=v) for (i, v) in relInfo.items()]\n",
    "                relIndex[fAs] = dict((norm(v), (idMapping[i], v)) for (i, v) in relInfo.items())\n",
    "            for row in rows:\n",
    "                newValue = []\n",
    "                for v in row[f]:\n",
    "                    rnv = norm(v)\n",
    "                    (i, nv) = relIndex[fAs].get(rnv, (\"-1\", None))\n",
    "                    if nv == None:\n",
    "                        target = MOVE_MISSING[mt]\n",
    "                        if target not in row: row[target] = ['']\n",
    "                        row[target][0] += '\\nMOVED FROM {}: {}'.format(f, v)\n",
    "                    else: newValue.append(dict(_id=i, value=nv))\n",
    "                row[f] = newValue "
   ]
  },
  {
   "cell_type": "markdown",
   "metadata": {
    "deletable": true,
    "editable": true
   },
   "source": [
    "# Test tweaks\n",
    "\n",
    "Tweaks for testing purposes."
   ]
  },
  {
   "cell_type": "code",
   "execution_count": 164,
   "metadata": {
    "collapsed": true,
    "deletable": true,
    "editable": true
   },
   "outputs": [],
   "source": [
    "def testTweaks():\n",
    "    mt = 'contrib'\n",
    "    myContribs = {'3DHOP', 'AAI'}\n",
    "    my = uidMapping['dirk']\n",
    "    for row in allData[mt]:\n",
    "        title = row.get('title', [None])\n",
    "        if len(title) == 0: title = [None]\n",
    "        if title[0] in myContribs:\n",
    "            row['creator'] = [dict(_id=my)]"
   ]
  },
  {
   "cell_type": "markdown",
   "metadata": {
    "deletable": true,
    "editable": true
   },
   "source": [
    "# Insert into MongoDB"
   ]
  },
  {
   "cell_type": "code",
   "execution_count": 165,
   "metadata": {
    "collapsed": false,
    "deletable": true,
    "editable": true,
    "scrolled": true
   },
   "outputs": [],
   "source": [
    "def importMongo():\n",
    "    client = MongoClient()\n",
    "    client.drop_database('dariah')\n",
    "    db = client.dariah\n",
    "    for (mt, rows) in allData.items():\n",
    "        info(mt)\n",
    "        db[mt].insert_many(rows)"
   ]
  },
  {
   "cell_type": "markdown",
   "metadata": {
    "deletable": true,
    "editable": true
   },
   "source": [
    "# The whole pipeline"
   ]
  },
  {
   "cell_type": "code",
   "execution_count": 167,
   "metadata": {
    "collapsed": false,
    "deletable": true,
    "editable": true,
    "scrolled": false
   },
   "outputs": [
    {
     "name": "stdout",
     "output_type": "stream",
     "text": [
      "contrib\n",
      "country\n",
      "assessment\n",
      "users\n",
      "groups\n",
      "disciplines\n",
      "keywords\n",
      "tadirahActivities\n",
      "tadirahObjects\n",
      "tadirahTechniques\n",
      "typeContribution\n",
      "vcc\n",
      "year\n"
     ]
    }
   ],
   "source": [
    "money_warnings = {}\n",
    "money_notes = {}\n",
    "valueDict = dict()\n",
    "rawFields = dict()\n",
    "allFields = dict()\n",
    "rawData = dict()\n",
    "allData = dict()\n",
    "uidMapping = dict()\n",
    "\n",
    "parser = etree.XMLParser(remove_blank_text=True, ns_clean=True)\n",
    "readFmFields()\n",
    "readFmData()\n",
    "readLists()\n",
    "moveFields()\n",
    "countryTable()\n",
    "usersTable()\n",
    "relTables()\n",
    "testTweaks()\n",
    "importMongo()\n",
    "#showData()\n",
    "#showMoney()"
   ]
  },
  {
   "cell_type": "markdown",
   "metadata": {
    "deletable": true,
    "editable": true
   },
   "source": [
    "To import the bson dump in another mongodb installation, use the commandline to dump the dariah database here\n",
    "\n",
    "    mongodump -d dariah -o dariah\n",
    "\n",
    "and to import it elsewhere.\n",
    "\n",
    "    mongorestore --drop -d dariah dariah"
   ]
  },
  {
   "cell_type": "markdown",
   "metadata": {
    "deletable": true,
    "editable": true
   },
   "source": [
    "## Exploration\n",
    "\n",
    "The process has finished, but here is space to explore the data, in order to find patterns, regularities, and, more importantly, *irregularities*.\n",
    "\n",
    "First step: create csv files of the data and combine them into an excel sheet."
   ]
  },
  {
   "cell_type": "code",
   "execution_count": 106,
   "metadata": {
    "collapsed": true,
    "deletable": true,
    "editable": true
   },
   "outputs": [],
   "source": [
    "import xlsxwriter\n",
    "\n",
    "EXPORT_DIR = os.path.expanduser('~/Downloads')\n",
    "EXPORT_ORIG = '{}/contribFromFileMaker.xlsx'.format(EXPORT_DIR)\n",
    "EXPORT_MONGO = '{}/contribInMongoDB.xlsx'.format(EXPORT_DIR)"
   ]
  },
  {
   "cell_type": "code",
   "execution_count": 107,
   "metadata": {
    "collapsed": false,
    "deletable": true,
    "editable": true
   },
   "outputs": [],
   "source": [
    "workbook = xlsxwriter.Workbook(EXPORT_ORIG, {'strings_to_urls': False})\n",
    "for mt in rawData:\n",
    "    worksheet = workbook.add_worksheet(mt)\n",
    "    for (f, field) in enumerate(rawFields[mt]):\n",
    "            worksheet.write(0, f, field)\n",
    "    for (r, row) in enumerate(rawData[mt]):\n",
    "        for (f, field) in enumerate(rawFields[mt]):\n",
    "            val = row[field]\n",
    "            val = [] if val == None else val if type(val) is list else [val]\n",
    "            val = '|'.join(val)\n",
    "            worksheet.write(r+1, f, val)\n",
    "workbook.close()"
   ]
  },
  {
   "cell_type": "code",
   "execution_count": 108,
   "metadata": {
    "collapsed": false,
    "deletable": true,
    "editable": true
   },
   "outputs": [],
   "source": [
    "workbook = xlsxwriter.Workbook(EXPORT_MONGO, {'strings_to_urls': False})\n",
    "for mt in allData:\n",
    "    worksheet = workbook.add_worksheet(mt)\n",
    "    fields = sorted(allFields[mt])\n",
    "    for (f, field) in enumerate(fields):\n",
    "            worksheet.write(0, f, field)\n",
    "    for (r, row) in enumerate(allData[mt]):\n",
    "        for (f, field) in enumerate(fields):\n",
    "            fmt = None\n",
    "            val = row.get(field, [])\n",
    "            (ftype, fmult) = allFields[mt][field]\n",
    "            val = [] if val == None else [val] if type(val) is not list else val\n",
    "            exportVal = []\n",
    "            for v in val:\n",
    "                if type(v) is dict:\n",
    "                    exportVal.append(','.join(str(vv) for vv in v.values()))\n",
    "                elif ftype == 'date' or ftype == 'datetime':\n",
    "                    exportVal.append(v if type(v) is str else v.isoformat())\n",
    "                else:\n",
    "                    exportVal.append(str(v))\n",
    "            worksheet.write(r+1, f, ' | '.join(exportVal))\n",
    "workbook.close()"
   ]
  },
  {
   "cell_type": "code",
   "execution_count": 109,
   "metadata": {
    "collapsed": false,
    "deletable": true,
    "editable": true
   },
   "outputs": [
    {
     "name": "stdout",
     "output_type": "stream",
     "text": [
      "assessment\n",
      "                 approved: bool       (1)\n",
      "               contrib_id: id         (1)\n",
      "             dateApproved: datetime   (8)\n",
      "          dateApprovedCIO: datetime   (1)\n",
      "         reviewerDecision: bool       (2)\n",
      "            reviewerNames: text       (2)\n",
      "                submitted: bool       (1)\n",
      "              vccApproval: bool       (1)\n",
      "              vccDecision: bool       (8)\n",
      "           vccDisApproval: bool       (1)\n",
      "contrib\n",
      "       contactPersonEmail: email      (4)\n",
      "        contactPersonName: text       (1)\n",
      "          costDescription: text       (1)\n",
      "                costTotal: valuta     (1)\n",
      "                  country: text       (1)\n",
      "                  creator: text       (1)\n",
      "              dateCreated: datetime   (1)\n",
      "             dateModified: datetime   (1)\n",
      "              description: text       (1)\n",
      "              disciplines: text       (2)\n",
      "                 keywords: text       (2)\n",
      "               modifiedBy: text       (1)\n",
      "        tadirahActivities: text       (2)\n",
      "           tadirahObjects: text       (2)\n",
      "        tadirahTechniques: text       (2)\n",
      "                    title: text       (1)\n",
      "         typeContribution: text       (1)\n",
      "    typeContributionOther: text       (3)\n",
      "              urlAcademic: text       (3)\n",
      "          urlContribution: text       (3)\n",
      "                      vcc: text       (2)\n",
      "                     year: text       (1)\n",
      "country\n",
      "                      _id: id         (1)\n",
      "                 isMember: bool       (1)\n",
      "                      iso: string     (1)\n",
      "                 latitude: float      (1)\n",
      "                longitude: float      (1)\n",
      "                     name: text       (1)\n",
      "countryExtra\n",
      "                      _id: id         (1)\n",
      "                    value: string     (1)\n",
      "disciplines\n",
      "                      _id: id         (1)\n",
      "                    value: string     (1)\n",
      "groups\n",
      "                      _id: id         (1)\n",
      "                authority: string     (1)\n",
      "                     eppn: string     (1)\n",
      "                    group: string     (1)\n",
      "keywords\n",
      "                      _id: id         (1)\n",
      "                    value: string     (1)\n",
      "tadirahActivities\n",
      "                      _id: id         (1)\n",
      "                    value: string     (1)\n",
      "tadirahObjects\n",
      "                      _id: id         (1)\n",
      "                    value: string     (1)\n",
      "tadirahTechniques\n",
      "                      _id: id         (1)\n",
      "                    value: string     (1)\n",
      "typeContribution\n",
      "                      _id: id         (1)\n",
      "                    value: string     (1)\n",
      "users\n",
      "                      _id: id         (1)\n",
      "                authority: string     (1)\n",
      "                    email: email      (1)\n",
      "                     eppn: string     (1)\n",
      "                firstName: string     (1)\n",
      "                 lastName: string     (1)\n",
      "                 mayLogin: bool       (1)\n",
      "vcc\n",
      "                      _id: id         (1)\n",
      "                    value: string     (1)\n",
      "year\n",
      "                      _id: id         (1)\n",
      "                    value: string     (1)\n"
     ]
    }
   ],
   "source": [
    "showFields()"
   ]
  },
  {
   "cell_type": "code",
   "execution_count": 110,
   "metadata": {
    "collapsed": false,
    "deletable": true,
    "editable": true,
    "scrolled": true
   },
   "outputs": [
    {
     "name": "stdout",
     "output_type": "stream",
     "text": [
      "==================================================\n",
      "_id=58a2b0ff2179c009e33efb17\n",
      "contactPersonEmail=['https://portal.uniri.hr/portfelj/tkras@uniri.hr']\n",
      "contactPersonName=['Tihana Kraš']\n",
      "costDescription=['•\\tOperating costs\\n\\to\\tTravels: \\n\\to\\tService provisions: 3.000,00 €\\n\\to\\tOther costs: 1.000,00 €\\n\\nTotal: 4.000,00 €']\n",
      "costTotal=[4000.0]\n",
      "country=[{'_id': ObjectId('58a2b1002179c009e33f0172'), 'iso': 'HR', 'value': 'Croatia'}]\n",
      "creator=[{'_id': ObjectId('58a2b1002179c009e33f01a0')}]\n",
      "dateCreated=[datetime.datetime(2000, 1, 1, 0, 0)]\n",
      "dateModified=[datetime.datetime(2017, 1, 19, 17, 49, 50)]\n",
      "description=['The partner will contribute with its website, which contains information about bilingualism intended for general public. It will also offer expert advice on bilingualism by its team members, provided by e-mail and in person (if appropriate).']\n",
      "disciplines=[{'_id': ObjectId('58a2b1002179c009e33f01b3'), 'value': 'Communication sciences'}, {'_id': ObjectId('58a2b1002179c009e33f01b7'), 'value': 'Education'}, {'_id': ObjectId('58a2b1002179c009e33f01be'), 'value': 'Linguistics'}, {'_id': ObjectId('58a2b1002179c009e33f01c6'), 'value': 'Psychology'}]\n",
      "keywords=[{'_id': ObjectId('58a2b1002179c009e33f0264'), 'value': 'bilingualism'}, {'_id': ObjectId('58a2b1002179c009e33f0261'), 'value': 'benefits'}, {'_id': ObjectId('58a2b1002179c009e33f028b'), 'value': 'information'}, {'_id': ObjectId('58a2b1002179c009e33f025b'), 'value': 'advice'}, {'_id': ObjectId('58a2b1002179c009e33f027c'), 'value': 'dissemination'}]\n",
      "modifiedBy=[{'_id': ObjectId('58a2b1002179c009e33f019a')}]\n",
      "tadirahActivities=[{'_id': ObjectId('58a2b1002179c009e33f02df'), 'value': 'Dissemination'}]\n",
      "tadirahObjects=[{'_id': ObjectId('58a2b1002179c009e33f02fb'), 'value': 'Research Results'}]\n",
      "tadirahTechniques=[{'_id': ObjectId('58a2b1002179c009e33f0313'), 'value': 'Linked open data > Enrichment-Annotation; Dissemination-Publishing'}]\n",
      "title=['Bilingualism Matters@Rijeka']\n",
      "typeContribution=[{'_id': ObjectId('58a2b1002179c009e33f0327'), 'value': 'Access'}]\n",
      "typeContributionOther=[{'_id': ObjectId('58a2b1002179c009e33f0328'), 'value': 'Expertise'}]\n",
      "urlAcademic=['http://www.bilingualism-matters-rijeka.ffri.hr/']\n",
      "urlContribution=['http://www.bilingualism-matters-rijeka.ffri.hr/en/']\n",
      "vcc=[{'_id': ObjectId('58a2b1002179c009e33f0337'), 'value': 'VCC4'}]\n",
      "year=[{'_id': ObjectId('58a2b1002179c009e33f033a'), 'value': '2015'}]\n",
      "==================================================\n",
      "_id=58a2b0ff2179c009e33efb18\n",
      "contactPersonEmail=['https://portal.uniri.hr/portfelj/silvana.vranic@uniri.hr', 'silvana.vranic@uniri.hr', 'silvana.vranic@uniri.hr']\n",
      "contactPersonName=['Silvana Vranić']\n",
      "costDescription=['•\\tSalaries\\n\\ta.\\tannual percentage given to the contribution\\n\\tb.\\tannual salary (real salary or use an average grid)\\n\\tc.\\toverhead\\n\\td.\\ta × b × c\\n\\nFirst Name Last Name\\ta\\tb\\tc\\td = a × b × c\\t\\nAnastazija Vlastelić\\t0.30\\t20.000,00\\t1.66\\t9,960,00\\t\\nSaša Potočnjak\\t0.30\\t20.000,00\\t1.66\\t9,960,00\\t\\nSilvana Vranić\\t0.40\\t20.000,00\\t1.66\\t13.280,00\\t\\n\\nTotal: 33.200,00 €']\n",
      "costTotal=[33200.0]\n",
      "country=[{'_id': ObjectId('58a2b1002179c009e33f0172'), 'iso': 'HR', 'value': 'Croatia'}]\n",
      "creator=[{'_id': ObjectId('58a2b1002179c009e33f01a0')}]\n",
      "dateCreated=[datetime.datetime(2000, 1, 1, 0, 0)]\n",
      "dateModified=[datetime.datetime(2016, 5, 8, 15, 49, 18)]\n",
      "description=['I8ik,T2As the main editor of the magazine Fluminensia, my team and I uploaded all the editions of the magazine published between the years 1989 to 1999, as well as edition Nr. 2 of 2014, on the website Hrčak  (http://hrcak.srce.hr/fluminensia) and on the magazine’s own website  (http://fluminensia.ffri.hr). The publication of another two editions is scheduled for 2015.']\n",
      "disciplines=[{'_id': ObjectId('58a2b1002179c009e33f01b4'), 'value': 'Cultural heritage and museology'}, {'_id': ObjectId('58a2b1002179c009e33f01bc'), 'value': 'History, Philosophy and Sociology of Sciences'}, {'_id': ObjectId('58a2b1002179c009e33f01be'), 'value': 'Linguistics'}, {'_id': ObjectId('58a2b1002179c009e33f01bf'), 'value': 'Literature'}, {'_id': ObjectId('58a2b1002179c009e33f01c0'), 'value': 'Management'}, {'_id': ObjectId('58a2b1002179c009e33f01c8'), 'value': 'Social Anthropology and ethnology'}]\n",
      "keywords=[]\n",
      "modifiedBy=[{'_id': ObjectId('58a2b1002179c009e33f019f')}]\n",
      "tadirahActivities=[{'_id': ObjectId('58a2b1002179c009e33f02de'), 'value': 'Storage'}]\n",
      "tadirahObjects=[{'_id': ObjectId('58a2b1002179c009e33f02e2'), 'value': 'Bibliographic Listings'}, {'_id': ObjectId('58a2b1002179c009e33f02e7'), 'value': 'Data'}, {'_id': ObjectId('58a2b1002179c009e33f02ed'), 'value': 'Language'}, {'_id': ObjectId('58a2b1002179c009e33f02ef'), 'value': 'Literature'}, {'_id': ObjectId('58a2b1002179c009e33f02f0'), 'value': 'Manuscript'}, {'_id': ObjectId('58a2b1002179c009e33f02f6'), 'value': 'Named Entities'}]\n",
      "tadirahTechniques=[{'_id': ObjectId('58a2b1002179c009e33f0313'), 'value': 'Linked open data > Enrichment-Annotation; Dissemination-Publishing'}, {'_id': ObjectId('58a2b1002179c009e33f0320'), 'value': 'Searching'}]\n",
      "title=['Journal Archives of Fluminensia, Journal for philological research, FFRi, Croatia']\n",
      "typeContribution=[{'_id': ObjectId('58a2b1002179c009e33f0327'), 'value': 'Access'}]\n",
      "typeContributionOther=[{'_id': ObjectId('58a2b1002179c009e33f0329'), 'value': 'Interoperability'}, {'_id': ObjectId('58a2b1002179c009e33f032a'), 'value': 'Content Hosting'}, {'_id': ObjectId('58a2b1002179c009e33f032f'), 'value': 'Cooperation'}, {'_id': ObjectId('58a2b1002179c009e33f0330'), 'value': 'Educational Resources'}, {'_id': ObjectId('58a2b1002179c009e33f0331'), 'value': 'Data'}, {'_id': ObjectId('58a2b1002179c009e33f0332'), 'value': 'DARIAH Coordination'}]\n",
      "urlAcademic=['http://www.ffri.hr']\n",
      "urlContribution=[]\n",
      "vcc=[{'_id': ObjectId('58a2b1002179c009e33f0335'), 'value': 'VCC2'}, {'_id': ObjectId('58a2b1002179c009e33f0336'), 'value': 'VCC3'}]\n",
      "year=[{'_id': ObjectId('58a2b1002179c009e33f033a'), 'value': '2015'}]\n"
     ]
    }
   ],
   "source": [
    "client = MongoClient()\n",
    "dbm = client.dariah\n",
    "for d in dbm.contrib.find({}).limit(2):\n",
    "    print('=' * 50)\n",
    "    for f in sorted(d):\n",
    "        print('{}={}'.format(f, d[f]))"
   ]
  },
  {
   "cell_type": "markdown",
   "metadata": {
    "deletable": true,
    "editable": true
   },
   "source": [
    "Here is a query to get all 'type_of_inkind' values for contributions."
   ]
  },
  {
   "cell_type": "code",
   "execution_count": 32,
   "metadata": {
    "collapsed": false,
    "deletable": true,
    "editable": true,
    "scrolled": true
   },
   "outputs": [
    {
     "name": "stdout",
     "output_type": "stream",
     "text": [
      "{'_id': 1, 'value': 'Access'}\n",
      "{'_id': 6, 'value': 'Event'}\n",
      "{'_id': 12, 'value': 'DARIAH Coordination'}\n",
      "{'_id': 9, 'value': 'Cooperation'}\n",
      "{'_id': 2, 'value': 'Expertise'}\n",
      "{'_id': 5, 'value': 'Tools and Software'}\n",
      "{'_id': 8, 'value': 'Summer School'}\n",
      "{'_id': 7, 'value': 'Training'}\n",
      "{'_id': 11, 'value': 'Data'}\n",
      "{'_id': 10, 'value': 'Educational Resources'}\n",
      "{'_id': 4, 'value': 'Content Hosting'}\n",
      "{'_id': 3, 'value': 'Interoperability'}\n"
     ]
    }
   ],
   "source": [
    "for c in dbm.contrib.distinct('typeContribution', {}):\n",
    "    print(c)"
   ]
  },
  {
   "cell_type": "markdown",
   "metadata": {
    "deletable": true,
    "editable": true
   },
   "source": [
    "Here are the users:"
   ]
  },
  {
   "cell_type": "code",
   "execution_count": 33,
   "metadata": {
    "collapsed": false,
    "deletable": true,
    "editable": true,
    "scrolled": true
   },
   "outputs": [
    {
     "name": "stdout",
     "output_type": "stream",
     "text": [
      "{'_id': 1, 'eppn': 'ATNC01', 'mayLogin': False, 'authority': 'legacy'}\n",
      "{'_id': 2, 'eppn': 'BENC01', 'mayLogin': False, 'authority': 'legacy'}\n",
      "{'_id': 3, 'eppn': 'CIO01', 'mayLogin': False, 'authority': 'legacy'}\n",
      "{'_id': 4, 'eppn': 'CIO02', 'mayLogin': False, 'authority': 'legacy'}\n",
      "{'_id': 5, 'eppn': 'CIOHenk', 'mayLogin': False, 'authority': 'legacy'}\n",
      "{'_id': 6, 'eppn': 'CIOLisa', 'mayLogin': False, 'authority': 'legacy'}\n",
      "{'_id': 7, 'eppn': 'DENC01', 'mayLogin': False, 'authority': 'legacy'}\n",
      "{'_id': 8, 'eppn': 'DGA', 'mayLogin': False, 'authority': 'legacy'}\n",
      "{'_id': 9, 'eppn': 'FRNC01', 'mayLogin': False, 'authority': 'legacy'}\n",
      "{'_id': 10, 'eppn': 'FRNC02', 'mayLogin': False, 'authority': 'legacy'}\n",
      "{'_id': 11, 'eppn': 'GRNC01', 'mayLogin': False, 'authority': 'legacy'}\n",
      "{'_id': 12, 'eppn': 'HRNC01', 'mayLogin': False, 'authority': 'legacy'}\n",
      "{'_id': 13, 'eppn': 'Henk Harmsen', 'mayLogin': False, 'authority': 'legacy'}\n",
      "{'_id': 14, 'eppn': 'IENC01', 'mayLogin': False, 'authority': 'legacy'}\n",
      "{'_id': 15, 'eppn': 'ITNC01', 'mayLogin': False, 'authority': 'legacy'}\n",
      "{'_id': 16, 'eppn': 'LUNC01', 'mayLogin': False, 'authority': 'legacy'}\n",
      "{'_id': 17, 'eppn': 'NLNC01', 'mayLogin': False, 'authority': 'legacy'}\n",
      "{'_id': 18, 'eppn': 'PLNC01', 'mayLogin': False, 'authority': 'legacy'}\n",
      "{'_id': 19, 'eppn': 'SINC01', 'mayLogin': False, 'authority': 'legacy'}\n",
      "{'_id': 20, 'eppn': 'VCC11', 'mayLogin': False, 'authority': 'legacy'}\n",
      "{'_id': 21, 'eppn': 'VCC12', 'mayLogin': False, 'authority': 'legacy'}\n",
      "{'_id': 22, 'eppn': 'VCC22', 'mayLogin': False, 'authority': 'legacy'}\n",
      "{'_id': 23, 'eppn': 'VCC42', 'mayLogin': False, 'authority': 'legacy'}\n",
      "{'_id': 24, 'eppn': 'admin', 'mayLogin': False, 'authority': 'legacy'}\n",
      "{'_id': 25, 'eppn': 'consult', 'mayLogin': False, 'authority': 'legacy'}\n",
      "{'_id': 26, 'eppn': 'suzan', 'email': 'suzan1@test.eu', 'mayLogin': True, 'authority': 'local', 'firstName': 'Suzan', 'lastName': 'Karelse'}\n",
      "{'_id': 27, 'eppn': 'marie', 'email': 'suzan2@test.eu', 'mayLogin': True, 'authority': 'local', 'firstName': 'Marie', 'lastName': 'Pieterse'}\n",
      "{'_id': 28, 'eppn': 'gertjan', 'email': 'gertjan@test.eu', 'mayLogin': False, 'authority': 'local', 'firstName': 'Gert Jan', 'lastName': 'Klein-Holgerink'}\n",
      "{'_id': 29, 'eppn': 'lisa', 'email': 'lisa@test.eu', 'mayLogin': True, 'authority': 'local', 'firstName': 'Lisa', 'lastName': 'de Leeuw'}\n",
      "{'_id': 30, 'eppn': 'dirk', 'email': 'dirk@test.eu', 'mayLogin': True, 'authority': 'local', 'firstName': 'Dirk', 'lastName': 'Roorda'}\n"
     ]
    }
   ],
   "source": [
    "for c in dbm.users.find({}):\n",
    "    print(c)"
   ]
  },
  {
   "cell_type": "markdown",
   "metadata": {
    "deletable": true,
    "editable": true
   },
   "source": [
    "Here are the countries:"
   ]
  },
  {
   "cell_type": "code",
   "execution_count": 34,
   "metadata": {
    "collapsed": false,
    "deletable": true,
    "editable": true,
    "scrolled": true
   },
   "outputs": [
    {
     "name": "stdout",
     "output_type": "stream",
     "text": [
      "{'_id': 'AT', 'name': 'Austria', 'isMember': True, 'latitude': '47.7', 'longitude': '15.11'}\n",
      "{'_id': 'BE', 'name': 'Belgium', 'isMember': True, 'latitude': '51.3', 'longitude': '3.1'}\n",
      "{'_id': 'HR', 'name': 'Croatia', 'isMember': True, 'latitude': '44.7', 'longitude': '15.6'}\n",
      "{'_id': 'CY', 'name': 'Cyprus', 'isMember': True, 'latitude': '35.0', 'longitude': '32.8'}\n",
      "{'_id': 'DK', 'name': 'Denmark', 'isMember': True, 'latitude': '55.6', 'longitude': '11.0'}\n",
      "{'_id': 'FR', 'name': 'France', 'isMember': True, 'latitude': '46.5', 'longitude': '1.9'}\n",
      "{'_id': 'DE', 'name': 'Germany', 'isMember': True, 'latitude': '51.0', 'longitude': '10.4'}\n",
      "{'_id': 'GR', 'name': 'Greece', 'isMember': True, 'latitude': '38.0', 'longitude': '23.8'}\n",
      "{'_id': 'IE', 'name': 'Ireland', 'isMember': True, 'latitude': '53.1', 'longitude': '-8.4'}\n",
      "{'_id': 'IT', 'name': 'Italy', 'isMember': True, 'latitude': '41.6', 'longitude': '13.0'}\n",
      "{'_id': 'LU', 'name': 'Luxembourg', 'isMember': True, 'latitude': '49.6', 'longitude': '6.1'}\n",
      "{'_id': 'MT', 'name': 'Malta', 'isMember': True, 'latitude': '35.9', 'longitude': '14.4'}\n",
      "{'_id': 'NL', 'name': 'Netherlands', 'isMember': True, 'latitude': '52.8', 'longitude': '5.8'}\n",
      "{'_id': 'PT', 'name': 'Portugal', 'isMember': True, 'latitude': '38.7', 'longitude': '-9.0'}\n",
      "{'_id': 'RS', 'name': 'Serbia', 'isMember': True, 'latitude': '44.0', 'longitude': '20.8'}\n",
      "{'_id': 'SI', 'name': 'Slovenia', 'isMember': True, 'latitude': '46.2', 'longitude': '14.4'}\n",
      "{'_id': 'PL', 'name': 'Poland', 'isMember': True, 'latitude': '52.3', 'longitude': '19.8'}\n"
     ]
    }
   ],
   "source": [
    "for c in dbm.country.find({'isMember': True}):\n",
    "    print(c)"
   ]
  },
  {
   "cell_type": "code",
   "execution_count": 35,
   "metadata": {
    "collapsed": false,
    "deletable": true,
    "editable": true,
    "scrolled": true
   },
   "outputs": [
    {
     "name": "stdout",
     "output_type": "stream",
     "text": [
      "{'_id': 'HR', 'value': 'Croatia'}\n",
      "{'_id': 'LU', 'value': 'Luxembourg'}\n",
      "{'_id': 'SI', 'value': 'Slovenia'}\n",
      "{'_id': 'BE', 'value': 'Belgium'}\n",
      "{'_id': 'GR', 'value': 'Greece'}\n",
      "{'_id': 'RS', 'value': 'Serbia'}\n",
      "{'_id': 'AT', 'value': 'Austria'}\n",
      "{'_id': 'IT', 'value': 'Italy'}\n",
      "{'_id': 'FR', 'value': 'France'}\n",
      "{'_id': 'IE', 'value': 'Ireland'}\n",
      "{'_id': 'DE', 'value': 'Germany'}\n",
      "{'_id': 'NL', 'value': 'Netherlands'}\n",
      "{'_id': 'DK', 'value': 'Denmark'}\n",
      "{'_id': 'PL', 'value': 'Poland'}\n"
     ]
    }
   ],
   "source": [
    "for c in dbm.contrib.distinct('country', {}):\n",
    "    print(c)"
   ]
  },
  {
   "cell_type": "markdown",
   "metadata": {
    "deletable": true,
    "editable": true
   },
   "source": [
    "Let us get related data: the type_of_inkind of all contributions. For each contribution we need only the ids of the related type_of_inkind values."
   ]
  },
  {
   "cell_type": "code",
   "execution_count": 39,
   "metadata": {
    "collapsed": false,
    "deletable": true,
    "editable": true,
    "scrolled": true
   },
   "outputs": [
    {
     "name": "stdout",
     "output_type": "stream",
     "text": [
      "{'_id': 1, 'typeContribution': [{'_id': 1, 'value': 'Access'}]}\n",
      "{'_id': 2, 'typeContribution': [{'_id': 1, 'value': 'Access'}]}\n",
      "{'_id': 3, 'typeContribution': [{'_id': 6, 'value': 'Event'}]}\n",
      "{'_id': 4, 'typeContribution': [{'_id': 12, 'value': 'DARIAH Coordination'}]}\n",
      "{'_id': 5, 'typeContribution': [{'_id': 9, 'value': 'Cooperation'}]}\n",
      "{'_id': 6, 'typeContribution': [{'_id': 1, 'value': 'Access'}]}\n",
      "{'_id': 7, 'typeContribution': [{'_id': 6, 'value': 'Event'}]}\n",
      "{'_id': 8, 'typeContribution': [{'_id': 9, 'value': 'Cooperation'}]}\n",
      "{'_id': 9, 'typeContribution': [{'_id': 1, 'value': 'Access'}]}\n",
      "{'_id': 10, 'typeContribution': [{'_id': 12, 'value': 'DARIAH Coordination'}]}\n"
     ]
    }
   ],
   "source": [
    "for d in dbm.contrib.find({}, {'typeContribution': True}).limit(10):\n",
    "    print(d)"
   ]
  },
  {
   "cell_type": "code",
   "execution_count": 40,
   "metadata": {
    "collapsed": false,
    "deletable": true,
    "editable": true,
    "scrolled": true
   },
   "outputs": [
    {
     "name": "stdout",
     "output_type": "stream",
     "text": [
      "{'_id': 1, 'country': [{'_id': 'HR', 'value': 'Croatia'}]}\n",
      "{'_id': 2, 'country': [{'_id': 'HR', 'value': 'Croatia'}]}\n",
      "{'_id': 3, 'country': [{'_id': 'HR', 'value': 'Croatia'}]}\n",
      "{'_id': 4, 'country': [{'_id': 'HR', 'value': 'Croatia'}]}\n",
      "{'_id': 5, 'country': [{'_id': 'HR', 'value': 'Croatia'}]}\n",
      "{'_id': 6, 'country': [{'_id': 'HR', 'value': 'Croatia'}]}\n",
      "{'_id': 7, 'country': [{'_id': 'HR', 'value': 'Croatia'}]}\n",
      "{'_id': 8, 'country': [{'_id': 'HR', 'value': 'Croatia'}]}\n",
      "{'_id': 9, 'country': [{'_id': 'HR', 'value': 'Croatia'}]}\n",
      "{'_id': 10, 'country': [{'_id': 'LU', 'value': 'Luxembourg'}]}\n"
     ]
    }
   ],
   "source": [
    "for d in dbm.contrib.find({}, {'country': True}).limit(10):\n",
    "    print(d)"
   ]
  },
  {
   "cell_type": "code",
   "execution_count": 29,
   "metadata": {
    "collapsed": false,
    "deletable": true,
    "editable": true,
    "scrolled": true
   },
   "outputs": [
    {
     "data": {
      "text/plain": [
       "True"
      ]
     },
     "execution_count": 29,
     "metadata": {},
     "output_type": "execute_result"
    }
   ],
   "source": [
    "x = dict(_id=5, value='66')\n",
    "y = dict(_id=5, value='66')\n",
    "x == y"
   ]
  },
  {
   "cell_type": "code",
   "execution_count": null,
   "metadata": {
    "collapsed": true,
    "deletable": true,
    "editable": true
   },
   "outputs": [],
   "source": []
  }
 ],
 "metadata": {
  "kernelspec": {
   "display_name": "Python 3",
   "language": "python",
   "name": "python3"
  },
  "language_info": {
   "codemirror_mode": {
    "name": "ipython",
    "version": 3
   },
   "file_extension": ".py",
   "mimetype": "text/x-python",
   "name": "python",
   "nbconvert_exporter": "python",
   "pygments_lexer": "ipython3",
   "version": "3.6.0"
  }
 },
 "nbformat": 4,
 "nbformat_minor": 0
}
