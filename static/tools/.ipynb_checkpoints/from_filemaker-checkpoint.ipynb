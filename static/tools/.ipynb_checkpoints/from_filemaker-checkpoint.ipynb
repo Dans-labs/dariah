{
 "cells": [
  {
   "cell_type": "markdown",
   "metadata": {},
   "source": [
    "# Importing InKind from FileMaker\n",
    "\n",
    "We use an XML export of the ``inkind`` table."
   ]
  },
  {
   "cell_type": "code",
   "execution_count": 1,
   "metadata": {
    "collapsed": false
   },
   "outputs": [],
   "source": [
    "import os,sys,re,collections\n",
    "from copy import deepcopy\n",
    "from lxml import etree"
   ]
  },
  {
   "cell_type": "markdown",
   "metadata": {},
   "source": [
    "First the config."
   ]
  },
  {
   "cell_type": "code",
   "execution_count": 2,
   "metadata": {
    "collapsed": false
   },
   "outputs": [
    {
     "name": "stdout",
     "output_type": "stream",
     "text": [
      "BASE_DIR=/Users/dirk/projects/has/dacs\n"
     ]
    }
   ],
   "source": [
    "HOME_DIR = os.path.expanduser('~').replace('\\\\', '/')\n",
    "BASE_DIR = '{}/projects/has/dacs'.format(HOME_DIR)\n",
    "INFILE = 'dariah.xml'\n",
    "INPATH = '{}/{}'.format(BASE_DIR, INFILE)\n",
    "FMNS = '{http://www.filemaker.com/fmpxmlresult}'\n",
    "print('BASE_DIR={}'.format(BASE_DIR))"
   ]
  },
  {
   "cell_type": "markdown",
   "metadata": {},
   "source": [
    "## Parse the XML file"
   ]
  },
  {
   "cell_type": "code",
   "execution_count": 3,
   "metadata": {
    "collapsed": false
   },
   "outputs": [],
   "source": [
    "parser = etree.XMLParser(remove_blank_text=True, ns_clean=True)\n",
    "root = etree.parse(INPATH, parser).getroot()"
   ]
  },
  {
   "cell_type": "markdown",
   "metadata": {},
   "source": [
    "## Get the fields and their types"
   ]
  },
  {
   "cell_type": "code",
   "execution_count": 4,
   "metadata": {
    "collapsed": false
   },
   "outputs": [
    {
     "name": "stdout",
     "output_type": "stream",
     "text": [
      "60 fields:\n",
      "number 1 ikid\n",
      "number 1 ikid base\n",
      "text   1 Country\n",
      "text   1 Year\n",
      "text   1 VCC\n",
      "number 1 submit\n",
      "number 1 approved\n",
      "text   1 Title\n",
      "text   2 Academic entity URL\n",
      "text   1 Academic entity URL 2\n",
      "text   1 Description of contribution\n",
      "text   2 Contribution URL\n",
      "text   1 Contribution URL 2\n",
      "text   3 Contact person mail\n",
      "text   1 Contact person mail 2\n",
      "text   1 Contact person name\n",
      "text   1 Costs description\n",
      "number 1 Costs total\n",
      "text   1 Type of inkind\n",
      "text   1 Other type of inkind\n",
      "text   1 Disciplines associated\n",
      "text   1 TaDiRAH Research activities\n",
      "text   1 TaDiRAH Research objects\n",
      "text   1 TaDiRAH Research techniques\n",
      "text   1 Other keywords\n",
      "text   1 Creator\n",
      "text   1 Creation date time\n",
      "text   1 Last modifier\n",
      "text   1 Modification date time\n",
      "number 1 Total costs total\n",
      "text   1 VCChead approval\n",
      "text   1 VCChead disapproval\n",
      "number 1 Whois\n",
      "text   8 VCC head decision\n",
      "text   8 dateandtime approval\n",
      "text   1 Teller\n",
      "text   1 gOldPassword\n",
      "text   1 gNewPassword\n",
      "text   1 gNewPassword2\n",
      "text   1 message\n",
      "text   1 dateandtime CIOapproval\n",
      "text   1 dateandtime CIOzero\n",
      "text   1 VCC head decision VCC11\n",
      "text   1 VCC head decision VCC12\n",
      "text   1 VCC head decision VCC21\n",
      "text   1 VCC head decision VCC22\n",
      "text   1 VCC head decision VCC31\n",
      "text   1 VCC head decision VCC32\n",
      "text   1 VCC head decision VCC41\n",
      "text   1 VCC head decision VCC42\n",
      "text   1 VCC11 name\n",
      "text   1 VCC12 name\n",
      "text   1 VCC21 name\n",
      "text   1 VCC22 name\n",
      "text   1 VCC31 name\n",
      "text   1 VCC32 name\n",
      "text   1 VCC41 name\n",
      "text   1 VCC42 name\n",
      "text   1 help description\n",
      "text   1 help text\n"
     ]
    }
   ],
   "source": [
    "fieldroots = [x for x in root.iter(FMNS+'METADATA')]\n",
    "fieldroot = fieldroots[0]\n",
    "fields = collections.OrderedDict((\n",
    "        x.get('NAME'),\n",
    "        (\n",
    "            x.get('TYPE').lower(),\n",
    "            int(x.get('MAXREPEAT')), \n",
    "        )\n",
    "    ) for x in fieldroot.iter(FMNS+'FIELD'))\n",
    "nfields = len(fields)\n",
    "print('{} fields:\\n{}'.format(\n",
    "    nfields, \n",
    "    '\\n'.join('{:<7}{} {}'.format(*fields[f], f) for f in fields)\n",
    "))"
   ]
  },
  {
   "cell_type": "markdown",
   "metadata": {},
   "source": [
    "## Get the data"
   ]
  },
  {
   "cell_type": "code",
   "execution_count": 5,
   "metadata": {
    "collapsed": false
   },
   "outputs": [
    {
     "name": "stdout",
     "output_type": "stream",
     "text": [
      "OK\n"
     ]
    }
   ],
   "source": [
    "dataroots = [x for x in root.iter(FMNS+'RESULTSET')]\n",
    "dataroot = dataroots[0]\n",
    "rows = []\n",
    "errors = collections.defaultdict(list)\n",
    "for (i, r) in enumerate(dataroot.iter(FMNS+'ROW')):\n",
    "    row = []\n",
    "    for c in r.iter(FMNS+'COL'):\n",
    "        data = ' !FSEP! '.join(x.text or '' for x in c.iter(FMNS+'DATA'))\n",
    "        row.append(data)\n",
    "    if len(row) != 60:\n",
    "        errors['Number of fields'].append(i)\n",
    "    rows.append(row)\n",
    "if errors:\n",
    "    for k in sorted(errors):\n",
    "        print('{:<20}: {}'.format(k, ','.join(errors[k])))\n",
    "else:\n",
    "    print('OK')"
   ]
  },
  {
   "cell_type": "code",
   "execution_count": 6,
   "metadata": {
    "collapsed": false
   },
   "outputs": [
    {
     "data": {
      "text/plain": [
       "309"
      ]
     },
     "execution_count": 6,
     "metadata": {},
     "output_type": "execute_result"
    }
   ],
   "source": [
    "len(rows)"
   ]
  },
  {
   "cell_type": "markdown",
   "metadata": {},
   "source": [
    "## Turn the data into a dict\n",
    "\n",
    "We represent the data wit a dictionary. The keys are the field names.\n",
    "The values are dictionaries again, with keys the ikids and with values the value that the row with that ikid has for that field."
   ]
  },
  {
   "cell_type": "code",
   "execution_count": 7,
   "metadata": {
    "collapsed": true
   },
   "outputs": [],
   "source": [
    "field_data = collections.defaultdict(dict)\n",
    "for row in rows:\n",
    "    ikid = row[0]\n",
    "    for (fname,v) in zip(fields.keys(), row):\n",
    "        if fname == 'ikid': continue\n",
    "        is_single = fields[fname][1] == 1\n",
    "        values = v if is_single else [x for x in v.split(' !FSEP! ') if x != '']\n",
    "        field_data[fname][ikid] = values"
   ]
  },
  {
   "cell_type": "code",
   "execution_count": 8,
   "metadata": {
    "collapsed": false
   },
   "outputs": [
    {
     "data": {
      "text/plain": [
       "{'AT', 'BE', 'DE', 'FR', 'GR', 'HR', 'IE', 'IT', 'LU', 'NL', 'RS', 'SI'}"
      ]
     },
     "execution_count": 8,
     "metadata": {},
     "output_type": "execute_result"
    }
   ],
   "source": [
    "set(field_data['Country'].values())"
   ]
  },
  {
   "cell_type": "markdown",
   "metadata": {},
   "source": [
    "## Extract related tables"
   ]
  },
  {
   "cell_type": "code",
   "execution_count": 9,
   "metadata": {
    "collapsed": false
   },
   "outputs": [],
   "source": [
    "relvalues = collections.defaultdict(dict)\n",
    "relindex = collections.Counter()\n",
    "relxtables = collections.defaultdict(list)\n",
    "reltables = collections.defaultdict(list)\n",
    "\n",
    "def extract(modeled_field_data, fname):\n",
    "    is_single = fields[fname][1] == 1 # single value of multiple values\n",
    "    for ikid in field_data[fname]:\n",
    "        value = field_data[fname][ikid]\n",
    "        values = [value] if is_single else value\n",
    "        new_values = {}\n",
    "        for value in values:\n",
    "            vid = relvalues[fname].get(value, None)\n",
    "            if vid == None:\n",
    "                relindex[fname] += 1\n",
    "                vid = relindex[fname]\n",
    "                reltables[fname].append((vid, value))\n",
    "            relvalues[fname][value] = vid\n",
    "            if is_single:\n",
    "                modeled_field_data[fname][ikid] = vid\n",
    "            else:\n",
    "                relxtables[fname].append((ikid, vid))\n",
    "    if not is_single:\n",
    "        print('deleting key {}'.format(fname))\n",
    "        del modeled_field_data[fname]\n",
    "\n",
    "def model_data(field_list):\n",
    "    modeled_field_data = deepcopy(field_data)\n",
    "    for fname in field_list:\n",
    "        if fname not in fields:\n",
    "            print('ERROR: wrong field {}'.format(fname))\n",
    "            continue\n",
    "        extract(modeled_field_data, fname)\n",
    "    return modeled_field_data"
   ]
  },
  {
   "cell_type": "code",
   "execution_count": 10,
   "metadata": {
    "collapsed": false
   },
   "outputs": [
    {
     "name": "stdout",
     "output_type": "stream",
     "text": [
      "deleting key Contact person mail\n"
     ]
    }
   ],
   "source": [
    "mfield_data = model_data([\n",
    "    'Contact person mail',\n",
    "    'Country',   \n",
    "])"
   ]
  },
  {
   "cell_type": "code",
   "execution_count": null,
   "metadata": {
    "collapsed": true
   },
   "outputs": [],
   "source": []
  }
 ],
 "metadata": {
  "kernelspec": {
   "display_name": "Python 3",
   "language": "python",
   "name": "python3"
  },
  "language_info": {
   "codemirror_mode": {
    "name": "ipython",
    "version": 3
   },
   "file_extension": ".py",
   "mimetype": "text/x-python",
   "name": "python",
   "nbconvert_exporter": "python",
   "pygments_lexer": "ipython3",
   "version": "3.5.1"
  }
 },
 "nbformat": 4,
 "nbformat_minor": 0
}
