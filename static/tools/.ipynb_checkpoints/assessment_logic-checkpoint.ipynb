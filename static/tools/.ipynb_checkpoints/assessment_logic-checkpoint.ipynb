{
 "cells": [
  {
   "cell_type": "markdown",
   "metadata": {
    "deletable": true,
    "editable": true
   },
   "source": [
    "# Assessment Logic\n",
    "\n",
    "This notebook describes the data model for managing the assessment process\n",
    "and provides an initial database setting to get started.\n",
    "\n",
    "## Assessment\n",
    "\n",
    "Contributions are self-assessed by the creator of the contribution, i.e. the one who enters\n",
    "the contributions into the system.\n",
    "\n",
    "An assessment has the form of a list of questions, to be answered by the user.\n",
    "The list of questions is generated on the basis of two things:\n",
    "\n",
    "* the type of contribution\n",
    "* the currently active assessment *package*.\n",
    "\n",
    "## Contribution type\n",
    "\n",
    "Contributions are divided into types and subtypes, a total of roughly a dozen values.\n",
    "We reserve just one field for contribution type, because type and subtype cannot be chosen independently.\n",
    "\n",
    "## Package\n",
    "\n",
    "The list of types and subtypes is determinded by the back office, and may change from year to year.\n",
    "Also the list of assessment questions will grow over the years.\n",
    "Finally, the mapping between types and questions will be determined by the back office and is subject\n",
    "to periodical change, typically annually, or biannually.\n",
    "\n",
    "A package is a complete specification of availables types, questions and the mapping between them.\n",
    "A package is *active* when it is used as the basis for the assessment process.\n",
    "Whenever a new package becomes active, the currently remaining package becomes inactive, but it remains in the\n",
    "system. Every assessment in the system has a connection with the package that was active when the \n",
    "assessment was initiated.\n",
    "\n",
    "\n"
   ]
  },
  {
   "cell_type": "code",
   "execution_count": 65,
   "metadata": {
    "collapsed": true,
    "deletable": true,
    "editable": true
   },
   "outputs": [],
   "source": [
    "import os,sys,re,collections,json,yaml\n",
    "from os.path import splitext, basename\n",
    "from functools import reduce\n",
    "from glob import glob\n",
    "from lxml import etree\n",
    "from datetime import datetime\n",
    "from pymongo import MongoClient\n",
    "from bson.objectid import ObjectId"
   ]
  },
  {
   "cell_type": "code",
   "execution_count": 168,
   "metadata": {
    "collapsed": true,
    "deletable": true,
    "editable": true
   },
   "outputs": [],
   "source": [
    "class IdIndex(object):\n",
    "    def __init__(self):\n",
    "        self._idFromName = {}\n",
    "        self._nameFromId = {}\n",
    "    def getId(self, name):\n",
    "        _id = self._idFromName.get(name, None)\n",
    "        if _id == None:\n",
    "            _id = str(ObjectId())\n",
    "            self._idFromName[name] = _id\n",
    "            self._nameFromId[_id] = name\n",
    "        return _id\n",
    "    def getName(_id): return self._nameFromId[_id]\n",
    "    \n",
    "idIndex = IdIndex()\n",
    "\n",
    "class MongoId(object):\n",
    "    def __init__(self, name):\n",
    "        self._id = idIndex.getId(name)\n",
    "    def __repr__(self):\n",
    "        return '{}(\"{}\")'.format('ObjectId', self._id)\n",
    "\n",
    "def mid_representer(dumper, data):\n",
    "    return dumper.represent_scalar('!mongoId', '{}'.format(data))\n",
    "\n",
    "def mid_constructor(loader, node):\n",
    "    name = loader.construct_scalar(node)\n",
    "    return MongoId(name)\n",
    "\n",
    "yaml.add_representer(MongoId, mid_representer)\n",
    "yaml.add_constructor('!mongoId', mid_constructor)"
   ]
  },
  {
   "cell_type": "code",
   "execution_count": 184,
   "metadata": {
    "collapsed": false,
    "deletable": true,
    "editable": true
   },
   "outputs": [
    {
     "data": {
      "text/plain": [
       "{'methods': [{'my_contribs': 'list my contributions', 'rows': 'own'},\n",
       "  {'list_contrib': 'list contributions', 'rows': 'public'}]}"
      ]
     },
     "execution_count": 184,
     "metadata": {},
     "output_type": "execute_result"
    }
   ],
   "source": [
    "yaml.load('''\n",
    "methods:\n",
    "  - my_contribs: list my contributions\n",
    "    rows: own\n",
    "  - list_contrib: list contributions\n",
    "    rows: public\n",
    "''')"
   ]
  },
  {
   "cell_type": "code",
   "execution_count": 166,
   "metadata": {
    "collapsed": true,
    "deletable": true,
    "editable": true
   },
   "outputs": [],
   "source": [
    "mainTable = yaml.load('''\n",
    "contributionType:\n",
    "  fieldList:\n",
    "  - name\n",
    "  - main\n",
    "  field:\n",
    "    name:\n",
    "      label: Type\n",
    "    main: \n",
    "      label: Main Type\n",
    "assessCriterion:\n",
    "  fieldList:\n",
    "  - code\n",
    "  - name\n",
    "  - levels\n",
    "  field:\n",
    "    code:\n",
    "      label: Code\n",
    "    name:\n",
    "      label: Criterion\n",
    "    level:\n",
    "      label: Levels\n",
    "assessPackage:\n",
    "  fieldList:\n",
    "  - name\n",
    "  - active\n",
    "  - description\n",
    "  - typeList\n",
    "  - typeQuestion\n",
    "  field:\n",
    "    name:\n",
    "      label: Name\n",
    "    active:\n",
    "      label: Is active\n",
    "    description:\n",
    "      label: Description\n",
    "    typeList:\n",
    "      label: List of contribution types\n",
    "    typeQuestion:\n",
    "      label: Mapping of questions to contribution types\n",
    "assessResult:\n",
    "  fieldList:\n",
    "  - package\n",
    "  - crieterion\n",
    "  - contribution\n",
    "  - score\n",
    "  - evidence\n",
    "  - workflow\n",
    "  field:\n",
    "  - package:\n",
    "      label: With respect to package\n",
    "  - criterion:\n",
    "      label: With respect to criterion\n",
    "  - contribution:\n",
    "      label: For contribution\n",
    "  - score:\n",
    "      label: Level scored\n",
    "  - evidence:\n",
    "      label: Evidence\n",
    "  - workflow:\n",
    "      label: As part of\n",
    "''')"
   ]
  },
  {
   "cell_type": "code",
   "execution_count": 167,
   "metadata": {
    "collapsed": false,
    "deletable": true,
    "editable": true
   },
   "outputs": [
    {
     "data": {
      "text/plain": [
       "{'assessCriterion': {'field': {'code': {'label': 'Code'},\n",
       "   'level': {'label': 'Levels'},\n",
       "   'name': {'label': 'Criterion'}},\n",
       "  'fieldList': ['code', 'name', 'level']},\n",
       " 'assessPackage': {'field': {'active': {'label': 'Is active'},\n",
       "   'description': {'label': 'Description'},\n",
       "   'name': {'label': 'Name'},\n",
       "   'typeList': {'label': 'List of contribution types'},\n",
       "   'typeQuestion': {'label': 'Mapping of questions to contribution types'}},\n",
       "  'fieldList': ['name', 'active', 'description', 'typeList', 'typeQuestion']},\n",
       " 'assessResult': {'field': [{'package': {'label': 'With respect to package'}},\n",
       "   {'criterion': {'label': 'With respect to criterion'}},\n",
       "   {'contribution': {'label': 'For contribution'}},\n",
       "   {'score': {'label': 'Level scored'}},\n",
       "   {'evidence': {'label': 'Evidence'}},\n",
       "   {'workflow': {'label': 'As part of'}}],\n",
       "  'fieldList': ['package',\n",
       "   'crieterion',\n",
       "   'contribution',\n",
       "   'score',\n",
       "   'evidence',\n",
       "   'workflow']},\n",
       " 'contributionType': {'field': {'main': {'label': 'Main Type'},\n",
       "   'name': {'label': 'Type'}},\n",
       "  'fieldList': ['name', 'main']}}"
      ]
     },
     "execution_count": 167,
     "metadata": {},
     "output_type": "execute_result"
    }
   ],
   "source": [
    "mainTable"
   ]
  },
  {
   "cell_type": "code",
   "execution_count": 172,
   "metadata": {
    "collapsed": false,
    "deletable": true,
    "editable": true
   },
   "outputs": [],
   "source": [
    "mainTableData = yaml.load('''\n",
    "contributionType:\n",
    "- \n",
    "  _id: !mongoId s1\n",
    "  name: hosting services\n",
    "  main: service\n",
    "-\n",
    "  _id: !mongoId s2\n",
    "  name: processing services\n",
    "  main: service\n",
    "- \n",
    "  _id: !mongoId s3\n",
    "  name: support services\n",
    "  main: service\n",
    "- \n",
    "  _id: !mongoId s4a\n",
    "  name: access to resources\n",
    "  main: service\n",
    "- \n",
    "  _id: !mongoId s4b\n",
    "  name: access to software\n",
    "  main: service\n",
    "- \n",
    "  _id: !mongoId a1\n",
    "  name: event\n",
    "  main: activity\n",
    "- \n",
    "  _id: !mongoId a2\n",
    "  name: consulting\n",
    "  main: activity\n",
    "- \n",
    "  _id: !mongoId a3\n",
    "  name: dariah coordination\n",
    "  main: activity\n",
    "- \n",
    "  _id: !mongoId a4\n",
    "  name: resource creation\n",
    "  main: activity\n",
    "- \n",
    "  _id: !mongoId a5\n",
    "  name: software development\n",
    "  main: activity\n",
    "''')"
   ]
  },
  {
   "cell_type": "code",
   "execution_count": 173,
   "metadata": {
    "collapsed": false,
    "deletable": true,
    "editable": true
   },
   "outputs": [
    {
     "data": {
      "text/plain": [
       "{'contributionType': [{'_id': ObjectId(\"58ac279b2179c08cbe7637c6\"),\n",
       "   'main': 'service',\n",
       "   'name': 'hosting services'},\n",
       "  {'_id': ObjectId(\"58ac279b2179c08cbe7637c7\"),\n",
       "   'main': 'service',\n",
       "   'name': 'processing services'},\n",
       "  {'_id': ObjectId(\"58ac279b2179c08cbe7637c8\"),\n",
       "   'main': 'service',\n",
       "   'name': 'support services'},\n",
       "  {'_id': ObjectId(\"58ac279b2179c08cbe7637c9\"),\n",
       "   'main': 'service',\n",
       "   'name': 'access to resources'},\n",
       "  {'_id': ObjectId(\"58ac279b2179c08cbe7637ca\"),\n",
       "   'main': 'service',\n",
       "   'name': 'access to software'},\n",
       "  {'_id': ObjectId(\"58ac279b2179c08cbe7637cb\"),\n",
       "   'main': 'activity',\n",
       "   'name': 'event'},\n",
       "  {'_id': ObjectId(\"58ac279b2179c08cbe7637cc\"),\n",
       "   'main': 'activity',\n",
       "   'name': 'consulting'},\n",
       "  {'_id': ObjectId(\"58ac279b2179c08cbe7637cd\"),\n",
       "   'main': 'activity',\n",
       "   'name': 'dariah coordination'},\n",
       "  {'_id': ObjectId(\"58ac279b2179c08cbe7637ce\"),\n",
       "   'main': 'activity',\n",
       "   'name': 'resource creation'},\n",
       "  {'_id': ObjectId(\"58ac279b2179c08cbe7637cf\"),\n",
       "   'main': 'activity',\n",
       "   'name': 'software development'}]}"
      ]
     },
     "execution_count": 173,
     "metadata": {},
     "output_type": "execute_result"
    }
   ],
   "source": [
    "mainTableData"
   ]
  },
  {
   "cell_type": "code",
   "execution_count": null,
   "metadata": {
    "collapsed": true,
    "deletable": true,
    "editable": true
   },
   "outputs": [],
   "source": []
  }
 ],
 "metadata": {
  "kernelspec": {
   "display_name": "Python 3",
   "language": "python",
   "name": "python3"
  },
  "language_info": {
   "codemirror_mode": {
    "name": "ipython",
    "version": 3
   },
   "file_extension": ".py",
   "mimetype": "text/x-python",
   "name": "python",
   "nbconvert_exporter": "python",
   "pygments_lexer": "ipython3",
   "version": "3.6.0"
  }
 },
 "nbformat": 4,
 "nbformat_minor": 2
}
